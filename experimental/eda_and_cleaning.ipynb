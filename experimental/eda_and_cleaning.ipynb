{
 "cells": [
  {
   "cell_type": "markdown",
   "metadata": {
    "id": "jcvWPA_QtzxM"
   },
   "source": [
    "## Setup"
   ]
  },
  {
   "cell_type": "code",
   "execution_count": 13,
   "metadata": {
    "colab": {
     "base_uri": "https://localhost:8080/"
    },
    "executionInfo": {
     "elapsed": 1022,
     "status": "ok",
     "timestamp": 1622165793512,
     "user": {
      "displayName": "Parth Shah",
      "photoUrl": "https://lh3.googleusercontent.com/a-/AOh14GjJeayivmuVTkvMiHjGfvFsfc_2h_sZTkynMvny=s64",
      "userId": "03554453394681873488"
     },
     "user_tz": 240
    },
    "id": "2mBB3xcHthcX",
    "outputId": "e5edf0f7-931e-4df4-f962-68d2f2e42cf4"
   },
   "outputs": [
    {
     "name": "stdout",
     "output_type": "stream",
     "text": [
      "/notebooks/urban/urban\n"
     ]
    }
   ],
   "source": [
    "%cd /notebooks/urban/urban"
   ]
  },
  {
   "cell_type": "code",
   "execution_count": 8,
   "metadata": {
    "executionInfo": {
     "elapsed": 1140,
     "status": "ok",
     "timestamp": 1622165794649,
     "user": {
      "displayName": "Parth Shah",
      "photoUrl": "https://lh3.googleusercontent.com/a-/AOh14GjJeayivmuVTkvMiHjGfvFsfc_2h_sZTkynMvny=s64",
      "userId": "03554453394681873488"
     },
     "user_tz": 240
    },
    "id": "j38j7Vnktykj"
   },
   "outputs": [],
   "source": [
    "# imports\n",
    "import os\n",
    "import re\n",
    "import pandas as pd\n",
    "import matplotlib.pyplot as plt\n",
    "%matplotlib inline\n",
    "import seaborn as sns\n",
    "from wordcloud import WordCloud, STOPWORDS\n",
    "\n",
    "plt.style.use('fivethirtyeight')"
   ]
  },
  {
   "cell_type": "code",
   "execution_count": 14,
   "metadata": {
    "executionInfo": {
     "elapsed": 141,
     "status": "ok",
     "timestamp": 1622165795261,
     "user": {
      "displayName": "Parth Shah",
      "photoUrl": "https://lh3.googleusercontent.com/a-/AOh14GjJeayivmuVTkvMiHjGfvFsfc_2h_sZTkynMvny=s64",
      "userId": "03554453394681873488"
     },
     "user_tz": 240
    },
    "id": "t3-GTxn-tse7"
   },
   "outputs": [],
   "source": [
    "# global\n",
    "DATA_DIR = os.path.join(os.getcwd(), 'data')\n",
    "\n",
    "COL_NAMES = ['character', 'browsing_page_url', 'word_url', 'word', 'definition', 'sentence']"
   ]
  },
  {
   "cell_type": "markdown",
   "metadata": {
    "id": "KD6o9pXbtt-A"
   },
   "source": [
    "## Read Data"
   ]
  },
  {
   "cell_type": "code",
   "execution_count": 16,
   "metadata": {
    "executionInfo": {
     "elapsed": 1382,
     "status": "ok",
     "timestamp": 1622165798117,
     "user": {
      "displayName": "Parth Shah",
      "photoUrl": "https://lh3.googleusercontent.com/a-/AOh14GjJeayivmuVTkvMiHjGfvFsfc_2h_sZTkynMvny=s64",
      "userId": "03554453394681873488"
     },
     "user_tz": 240
    },
    "id": "gHTbpCSQCSiz"
   },
   "outputs": [],
   "source": [
    "file_paths = []\n",
    "for root, dirs, files in os.walk(DATA_DIR):\n",
    "  for f in files:\n",
    "    if f.endswith('.csv') and f.startswith('urban_data'):\n",
    "      file_paths.append(os.path.join(root, f))    "
   ]
  },
  {
   "cell_type": "code",
   "execution_count": 17,
   "metadata": {
    "executionInfo": {
     "elapsed": 46433,
     "status": "ok",
     "timestamp": 1622165844548,
     "user": {
      "displayName": "Parth Shah",
      "photoUrl": "https://lh3.googleusercontent.com/a-/AOh14GjJeayivmuVTkvMiHjGfvFsfc_2h_sZTkynMvny=s64",
      "userId": "03554453394681873488"
     },
     "user_tz": 240
    },
    "id": "0F4Wb5EyHMyx"
   },
   "outputs": [],
   "source": [
    "df_urban = pd.concat([pd.read_csv(f, names=COL_NAMES) for f in file_paths])"
   ]
  },
  {
   "cell_type": "code",
   "execution_count": 18,
   "metadata": {
    "colab": {
     "base_uri": "https://localhost:8080/"
    },
    "executionInfo": {
     "elapsed": 11,
     "status": "ok",
     "timestamp": 1622165844549,
     "user": {
      "displayName": "Parth Shah",
      "photoUrl": "https://lh3.googleusercontent.com/a-/AOh14GjJeayivmuVTkvMiHjGfvFsfc_2h_sZTkynMvny=s64",
      "userId": "03554453394681873488"
     },
     "user_tz": 240
    },
    "id": "w60kWI3XzbPZ",
    "outputId": "c7523d52-64ca-4fea-a4f6-ac54b1f58a4f"
   },
   "outputs": [
    {
     "data": {
      "text/plain": [
       "(2281497, 6)"
      ]
     },
     "execution_count": 18,
     "metadata": {},
     "output_type": "execute_result"
    }
   ],
   "source": [
    "df_urban.shape"
   ]
  },
  {
   "cell_type": "code",
   "execution_count": 19,
   "metadata": {
    "executionInfo": {
     "elapsed": 8,
     "status": "ok",
     "timestamp": 1622165844549,
     "user": {
      "displayName": "Parth Shah",
      "photoUrl": "https://lh3.googleusercontent.com/a-/AOh14GjJeayivmuVTkvMiHjGfvFsfc_2h_sZTkynMvny=s64",
      "userId": "03554453394681873488"
     },
     "user_tz": 240
    },
    "id": "ygpKSrpVS0na"
   },
   "outputs": [],
   "source": [
    "df_urban.reset_index(inplace=True, drop=True)"
   ]
  },
  {
   "cell_type": "code",
   "execution_count": 20,
   "metadata": {
    "colab": {
     "base_uri": "https://localhost:8080/",
     "height": 547
    },
    "executionInfo": {
     "elapsed": 9,
     "status": "ok",
     "timestamp": 1622165844550,
     "user": {
      "displayName": "Parth Shah",
      "photoUrl": "https://lh3.googleusercontent.com/a-/AOh14GjJeayivmuVTkvMiHjGfvFsfc_2h_sZTkynMvny=s64",
      "userId": "03554453394681873488"
     },
     "user_tz": 240
    },
    "id": "toeSAolUjETf",
    "outputId": "f2f5fb97-97d5-43e3-e734-f6cb9d2dda71"
   },
   "outputs": [
    {
     "data": {
      "text/html": [
       "<div>\n",
       "<style scoped>\n",
       "    .dataframe tbody tr th:only-of-type {\n",
       "        vertical-align: middle;\n",
       "    }\n",
       "\n",
       "    .dataframe tbody tr th {\n",
       "        vertical-align: top;\n",
       "    }\n",
       "\n",
       "    .dataframe thead th {\n",
       "        text-align: right;\n",
       "    }\n",
       "</style>\n",
       "<table border=\"1\" class=\"dataframe\">\n",
       "  <thead>\n",
       "    <tr style=\"text-align: right;\">\n",
       "      <th></th>\n",
       "      <th>character</th>\n",
       "      <th>browsing_page_url</th>\n",
       "      <th>word_url</th>\n",
       "      <th>word</th>\n",
       "      <th>definition</th>\n",
       "      <th>sentence</th>\n",
       "    </tr>\n",
       "  </thead>\n",
       "  <tbody>\n",
       "    <tr>\n",
       "      <th>0</th>\n",
       "      <td>G</td>\n",
       "      <td>https://www.urbandictionary.com/browse.php?cha...</td>\n",
       "      <td>https://www.urbandictionary.com/define.php?term=G</td>\n",
       "      <td>G</td>\n",
       "      <td>G means  mate  in slang  English , however u o...</td>\n",
       "      <td>1)  What’s up G 2)  yo  G</td>\n",
       "    </tr>\n",
       "    <tr>\n",
       "      <th>1</th>\n",
       "      <td>G</td>\n",
       "      <td>https://www.urbandictionary.com/browse.php?cha...</td>\n",
       "      <td>https://www.urbandictionary.com/define.php?ter...</td>\n",
       "      <td>G &amp; G</td>\n",
       "      <td>An alcoholic beverage that combines Gatorade a...</td>\n",
       "      <td>Grab  me  another  G &amp; G, they are  tasty .</td>\n",
       "    </tr>\n",
       "    <tr>\n",
       "      <th>2</th>\n",
       "      <td>G</td>\n",
       "      <td>https://www.urbandictionary.com/browse.php?cha...</td>\n",
       "      <td>https://www.urbandictionary.com/define.php?ter...</td>\n",
       "      <td>G &amp; P</td>\n",
       "      <td>ground  &amp;  pound ; when a guy is  on top  of a...</td>\n",
       "      <td>Man i  gave  her  the g  &amp; p  last night !!!</td>\n",
       "    </tr>\n",
       "    <tr>\n",
       "      <th>3</th>\n",
       "      <td>G</td>\n",
       "      <td>https://www.urbandictionary.com/browse.php?cha...</td>\n",
       "      <td>https://www.urbandictionary.com/define.php?ter...</td>\n",
       "      <td>g (gamer)</td>\n",
       "      <td>g is the word that people  say when  they are ...</td>\n",
       "      <td>Person1:g ( gamer )\\r Person2:what did you do ...</td>\n",
       "    </tr>\n",
       "    <tr>\n",
       "      <th>4</th>\n",
       "      <td>G</td>\n",
       "      <td>https://www.urbandictionary.com/browse.php?cha...</td>\n",
       "      <td>https://www.urbandictionary.com/define.php?ter...</td>\n",
       "      <td>G - Word</td>\n",
       "      <td>G*mer</td>\n",
       "      <td>Journalists: G* mers  are ruining society and ...</td>\n",
       "    </tr>\n",
       "  </tbody>\n",
       "</table>\n",
       "</div>"
      ],
      "text/plain": [
       "  character                                  browsing_page_url  \\\n",
       "0         G  https://www.urbandictionary.com/browse.php?cha...   \n",
       "1         G  https://www.urbandictionary.com/browse.php?cha...   \n",
       "2         G  https://www.urbandictionary.com/browse.php?cha...   \n",
       "3         G  https://www.urbandictionary.com/browse.php?cha...   \n",
       "4         G  https://www.urbandictionary.com/browse.php?cha...   \n",
       "\n",
       "                                            word_url       word  \\\n",
       "0  https://www.urbandictionary.com/define.php?term=G          G   \n",
       "1  https://www.urbandictionary.com/define.php?ter...      G & G   \n",
       "2  https://www.urbandictionary.com/define.php?ter...      G & P   \n",
       "3  https://www.urbandictionary.com/define.php?ter...  g (gamer)   \n",
       "4  https://www.urbandictionary.com/define.php?ter...   G - Word   \n",
       "\n",
       "                                          definition  \\\n",
       "0  G means  mate  in slang  English , however u o...   \n",
       "1  An alcoholic beverage that combines Gatorade a...   \n",
       "2  ground  &  pound ; when a guy is  on top  of a...   \n",
       "3  g is the word that people  say when  they are ...   \n",
       "4                                              G*mer   \n",
       "\n",
       "                                            sentence  \n",
       "0                          1)  What’s up G 2)  yo  G  \n",
       "1        Grab  me  another  G & G, they are  tasty .  \n",
       "2       Man i  gave  her  the g  & p  last night !!!  \n",
       "3  Person1:g ( gamer )\\r Person2:what did you do ...  \n",
       "4  Journalists: G* mers  are ruining society and ...  "
      ]
     },
     "execution_count": 20,
     "metadata": {},
     "output_type": "execute_result"
    }
   ],
   "source": [
    "df_urban.head()"
   ]
  },
  {
   "cell_type": "code",
   "execution_count": 21,
   "metadata": {
    "colab": {
     "base_uri": "https://localhost:8080/"
    },
    "executionInfo": {
     "elapsed": 192,
     "status": "ok",
     "timestamp": 1622165857259,
     "user": {
      "displayName": "Parth Shah",
      "photoUrl": "https://lh3.googleusercontent.com/a-/AOh14GjJeayivmuVTkvMiHjGfvFsfc_2h_sZTkynMvny=s64",
      "userId": "03554453394681873488"
     },
     "user_tz": 240
    },
    "id": "YGo3sJZVJez6",
    "outputId": "5f4a51d2-3245-4843-cfdb-5e53c6dcf765"
   },
   "outputs": [
    {
     "data": {
      "text/plain": [
       "array(['G', 'S', 'M', 'F', 'E', 'Q', 'J', 'C', 'B', 'T', 'O', 'U', 'R',\n",
       "       'D', 'X', 'Z', 'N', 'A', 'Y', 'P', 'L', 'H', 'V', 'I', 'W', 'K'],\n",
       "      dtype=object)"
      ]
     },
     "execution_count": 21,
     "metadata": {},
     "output_type": "execute_result"
    }
   ],
   "source": [
    "df_urban['character'].unique()"
   ]
  },
  {
   "cell_type": "code",
   "execution_count": 22,
   "metadata": {
    "executionInfo": {
     "elapsed": 698,
     "status": "ok",
     "timestamp": 1622165859800,
     "user": {
      "displayName": "Parth Shah",
      "photoUrl": "https://lh3.googleusercontent.com/a-/AOh14GjJeayivmuVTkvMiHjGfvFsfc_2h_sZTkynMvny=s64",
      "userId": "03554453394681873488"
     },
     "user_tz": 240
    },
    "id": "U6mmLeAbwlZ6"
   },
   "outputs": [],
   "source": [
    "df_nulls = df_urban[(df_urban.isnull().any(axis=1)) | (df_urban.isna().any(axis=1))]"
   ]
  },
  {
   "cell_type": "code",
   "execution_count": 23,
   "metadata": {
    "colab": {
     "base_uri": "https://localhost:8080/"
    },
    "executionInfo": {
     "elapsed": 3,
     "status": "ok",
     "timestamp": 1622165859801,
     "user": {
      "displayName": "Parth Shah",
      "photoUrl": "https://lh3.googleusercontent.com/a-/AOh14GjJeayivmuVTkvMiHjGfvFsfc_2h_sZTkynMvny=s64",
      "userId": "03554453394681873488"
     },
     "user_tz": 240
    },
    "id": "HCSyJGr-0Dxs",
    "outputId": "d38f0921-8993-46d9-e417-d9e0567e140e"
   },
   "outputs": [
    {
     "data": {
      "text/plain": [
       "(4963, 6)"
      ]
     },
     "execution_count": 23,
     "metadata": {},
     "output_type": "execute_result"
    }
   ],
   "source": [
    "df_nulls.shape"
   ]
  },
  {
   "cell_type": "markdown",
   "metadata": {},
   "source": [
    "Check random samples."
   ]
  },
  {
   "cell_type": "code",
   "execution_count": 24,
   "metadata": {
    "colab": {
     "base_uri": "https://localhost:8080/"
    },
    "executionInfo": {
     "elapsed": 487,
     "status": "ok",
     "timestamp": 1622164696123,
     "user": {
      "displayName": "Parth Shah",
      "photoUrl": "https://lh3.googleusercontent.com/a-/AOh14GjJeayivmuVTkvMiHjGfvFsfc_2h_sZTkynMvny=s64",
      "userId": "03554453394681873488"
     },
     "user_tz": 240
    },
    "id": "qVRpb_GJ54Bp",
    "outputId": "cc506064-2685-4838-fa61-ef0db5e0ff07"
   },
   "outputs": [
    {
     "name": "stdout",
     "output_type": "stream",
     "text": [
      "Word:  Jared Robison\n",
      "Meaning:  A person that is  truly   the bomb diggity  that deserves all the minidabs # yeet\n",
      "Sentence:  Jared Robison is  literally   one of the most   talented  people I know.\n",
      "------------------------------------------------------------\n",
      "Word:  Oliver Masters\n",
      "Meaning:  Big emo, His dad likes men and his moms a great teacher. WAKE ME UP  WAKE ME UP INSIDE  SAAAVE  MEEEE \"Hey bro,  Nice cock \"\n",
      "Sentence:  \"See that guy?  Hes  so  unfunny \" \"Yeah thats  oliver masters \"\n",
      "------------------------------------------------------------\n",
      "Word:  BooHaa\n",
      "Meaning:  The expression  BooHaa  originated within a diminutive town in  Derbyshire .  Its first usage can be traced back to a small clan of people known as the  Lampers .    Initially used by one of the clan’s legendary members, the term BooHaa has become a more increasingly accepted form of communication amongst  the Lamper  clan.    It is more typically used when Lampers communicate through online networks and messenger programmes; however a gradual transition into verbal communication has been seen in recent months.  The phrase  Boohaa  can be used to convey a variety of moods, feelings, thoughts and emotions, having multiple ways in which it can be expressed dependent upon tone of spoken voice or style of written communication.  BooHaa can be used sarcastically or to show sadness/euphoria/boredom, BooHaa can also be used to console or  congratulate  but more habitually it is found as a greeting on text messages sent between fellow clan members. \n",
      "Sentence:  Verbally:   Sarah 7 balls Ben at pool.    Jake would utilize the word ‘ BOOHAA ’ to congratulate Sarah, however he would then lower the tone (sarcastically) to ‘ BooHaa ’ to console Ben.    Text messenging:   Jake:  I’m bored  BOOHAA!! Beer anyone??    Response:  1, Gaz:  BOOHAA!! (This would be taken as a yes)  2, Nic:  BooHooHaa!!  (This would be taken as no)    Online Networking/messaging program:  Emma 1:  Boohaa  (Used as: Hello/how you doing?)  Mat  2: BOOOOOOHAAAAAA (In response: I’m great and you?)   \n",
      "------------------------------------------------------------\n",
      "Word:  edyner\n",
      "Meaning:  Is a person who is love, want, need by all women. Someone who uses just one kiss to make women to fall in love. Someone who is very  Irresistible . Most likely to be  the sexiest   man on  earth.\n",
      "Sentence:  Brad Pitt   wishes  he was an edyner.\n",
      "------------------------------------------------------------\n",
      "Word:  political exchange\n",
      "Meaning:  The act of one person  pooping  into the ass of another individual, then, that individual  poops  the turd back into the 1st person's butt. This process is repeated back and forth until orgasm or election,  whichever  comes first.\n",
      "Sentence:  That porno  contained  the dirtiest 'political exchange' I have ever witnessed. or The candidates sure had a  heated  'political exchange' in  last night's  debate.\n",
      "------------------------------------------------------------\n",
      "Word:  collective slow\n",
      "Meaning:  When the   flow of traffic  is  much  slower than it should be.\n",
      "Sentence:  I  would've  been  on time  for work  if it  hadn't been for the collective slow.\n",
      "------------------------------------------------------------\n",
      "Word:  peter paul\n",
      "Meaning:  Very smart, brave ,athletic,friendly. Has lots of friends. You are the luckiest person if you meet  a Peter   Paul .\n",
      "Sentence:  Peter paul  is  the best  of the best\n",
      "------------------------------------------------------------\n",
      "Word:  dilingual\n",
      "Meaning:  Knowing 10 or more  languages .  ( Programming  languages  included )\n",
      "Sentence:  I know  more  languages  than you... I'm dilingual.\n",
      "------------------------------------------------------------\n",
      "Word:  ICarly effect\n",
      "Meaning:  An unusual case in which a  dorky  boy becomes manly over the course of puberty. This also seems to  blondes , so as to say water the  crops . However, said effect leaves young maidens of the brunette completely unaffected.\n",
      "Sentence:  Person1: What happened?  Freddy  got hot, Sam did too and  Carly ,  meh . Person2: That's the ICarly effect for ya.\n",
      "------------------------------------------------------------\n",
      "Word:  Sassier\n",
      "Meaning:  Being More  Sassy  then another. To have more  sass . In other words being more  sassy  towards people around you.\n",
      "Sentence:  Gabe  is  sassier  then I will ever be. Gabe is sassier on his  birthday  then I was on mine.\n",
      "------------------------------------------------------------\n"
     ]
    }
   ],
   "source": [
    "df_sample = df_urban[['word', 'definition', 'sentence']].sample(10)\n",
    "\n",
    "for i in df_sample.values:\n",
    "  i[1] = re.sub('\\r', ' ', i[1])\n",
    "  i[2] = re.sub('\\r', ' ', i[2])\n",
    "  print(\"Word: \", i[0])\n",
    "  print(\"Meaning: \", i[1])\n",
    "  print(\"Sentence: \", i[2])\n",
    "  print(\"---\"*20)"
   ]
  },
  {
   "cell_type": "markdown",
   "metadata": {
    "id": "WJ73Lm1ZRUMZ"
   },
   "source": [
    "## EDA\n",
    "\n",
    "Very simple EDA.\n",
    "\n",
    "- Number of words per character\n",
    "\n",
    "- Length of words, meaning, sentence\n",
    "\n",
    "- Number of characters in word, meaning, sentence\n",
    "\n",
    "- Frequent special characters used"
   ]
  },
  {
   "cell_type": "code",
   "execution_count": 25,
   "metadata": {
    "executionInfo": {
     "elapsed": 454,
     "status": "ok",
     "timestamp": 1622165867753,
     "user": {
      "displayName": "Parth Shah",
      "photoUrl": "https://lh3.googleusercontent.com/a-/AOh14GjJeayivmuVTkvMiHjGfvFsfc_2h_sZTkynMvny=s64",
      "userId": "03554453394681873488"
     },
     "user_tz": 240
    },
    "id": "ifjOU4CJRW40"
   },
   "outputs": [],
   "source": [
    "df_urban = df_urban.drop(df_nulls.index)"
   ]
  },
  {
   "cell_type": "code",
   "execution_count": 26,
   "metadata": {
    "colab": {
     "base_uri": "https://localhost:8080/"
    },
    "executionInfo": {
     "elapsed": 77,
     "status": "ok",
     "timestamp": 1622165869102,
     "user": {
      "displayName": "Parth Shah",
      "photoUrl": "https://lh3.googleusercontent.com/a-/AOh14GjJeayivmuVTkvMiHjGfvFsfc_2h_sZTkynMvny=s64",
      "userId": "03554453394681873488"
     },
     "user_tz": 240
    },
    "id": "dse5XrSkSHH8",
    "outputId": "ea3065bb-7418-492e-d111-77b07b95337f"
   },
   "outputs": [
    {
     "data": {
      "text/plain": [
       "(2276534, 6)"
      ]
     },
     "execution_count": 26,
     "metadata": {},
     "output_type": "execute_result"
    }
   ],
   "source": [
    "df_urban.shape"
   ]
  },
  {
   "cell_type": "code",
   "execution_count": 27,
   "metadata": {
    "executionInfo": {
     "elapsed": 69,
     "status": "ok",
     "timestamp": 1622165871267,
     "user": {
      "displayName": "Parth Shah",
      "photoUrl": "https://lh3.googleusercontent.com/a-/AOh14GjJeayivmuVTkvMiHjGfvFsfc_2h_sZTkynMvny=s64",
      "userId": "03554453394681873488"
     },
     "user_tz": 240
    },
    "id": "ls5N-Z7YC0io"
   },
   "outputs": [],
   "source": [
    "def plot_hist(vals, bins, title, xlabel, ylabel):\n",
    "  plt.figure(figsize=(12,8))\n",
    "  sns.distplot(vals, kde=False, bins=bins)\n",
    "  plt.title(title)\n",
    "  plt.xlabel(xlabel)\n",
    "  plt.ylabel(ylabel)\n",
    "  plt.show()"
   ]
  },
  {
   "cell_type": "markdown",
   "metadata": {
    "id": "rmEgAo80_jXG"
   },
   "source": [
    "### By Word Analysis"
   ]
  },
  {
   "cell_type": "code",
   "execution_count": 28,
   "metadata": {
    "executionInfo": {
     "elapsed": 2461,
     "status": "ok",
     "timestamp": 1622165875166,
     "user": {
      "displayName": "Parth Shah",
      "photoUrl": "https://lh3.googleusercontent.com/a-/AOh14GjJeayivmuVTkvMiHjGfvFsfc_2h_sZTkynMvny=s64",
      "userId": "03554453394681873488"
     },
     "user_tz": 240
    },
    "id": "xs93YXxL_wIV"
   },
   "outputs": [],
   "source": [
    "df_urban['word_chars_num'] = df_urban['word'].apply(lambda x: len(x))\n",
    "df_urban['word_words_num'] = df_urban['word'].apply(lambda x: len(x.split()))"
   ]
  },
  {
   "cell_type": "code",
   "execution_count": 29,
   "metadata": {
    "colab": {
     "base_uri": "https://localhost:8080/",
     "height": 612
    },
    "executionInfo": {
     "elapsed": 424,
     "status": "ok",
     "timestamp": 1622165396375,
     "user": {
      "displayName": "Parth Shah",
      "photoUrl": "https://lh3.googleusercontent.com/a-/AOh14GjJeayivmuVTkvMiHjGfvFsfc_2h_sZTkynMvny=s64",
      "userId": "03554453394681873488"
     },
     "user_tz": 240
    },
    "id": "2eO1XqMfAQ6G",
    "outputId": "18ce28ec-be7f-46fa-fd16-c6852f4b5e46"
   },
   "outputs": [
    {
     "name": "stderr",
     "output_type": "stream",
     "text": [
      "/usr/local/lib/python3.6/dist-packages/seaborn/distributions.py:2557: FutureWarning: `distplot` is a deprecated function and will be removed in a future version. Please adapt your code to use either `displot` (a figure-level function with similar flexibility) or `histplot` (an axes-level function for histograms).\n",
      "  warnings.warn(msg, FutureWarning)\n"
     ]
    },
    {
     "data": {
      "image/png": "[encoded data removed]",
      "text/plain": [
       "<Figure size 864x576 with 1 Axes>"
      ]
     },
     "metadata": {},
     "output_type": "display_data"
    }
   ],
   "source": [
    "plot_hist(df_urban.word_chars_num, bins=70,\n",
    "          title='Length of Characters in Word',\n",
    "          xlabel='Length',\n",
    "          ylabel='Count')"
   ]
  },
  {
   "cell_type": "code",
   "execution_count": 30,
   "metadata": {
    "colab": {
     "base_uri": "https://localhost:8080/"
    },
    "executionInfo": {
     "elapsed": 189,
     "status": "ok",
     "timestamp": 1622165876618,
     "user": {
      "displayName": "Parth Shah",
      "photoUrl": "https://lh3.googleusercontent.com/a-/AOh14GjJeayivmuVTkvMiHjGfvFsfc_2h_sZTkynMvny=s64",
      "userId": "03554453394681873488"
     },
     "user_tz": 240
    },
    "id": "Os6ePQ0eBVW3",
    "outputId": "6bebacb1-69ad-4b4b-e614-e7baf6c384a9"
   },
   "outputs": [
    {
     "data": {
      "text/plain": [
       "0.100     6.0\n",
       "0.300     8.0\n",
       "0.500    10.0\n",
       "0.600    11.0\n",
       "0.700    13.0\n",
       "0.800    14.0\n",
       "0.900    17.0\n",
       "0.950    20.0\n",
       "0.990    29.0\n",
       "0.999    52.0\n",
       "Name: word_chars_num, dtype: float64"
      ]
     },
     "execution_count": 30,
     "metadata": {},
     "output_type": "execute_result"
    }
   ],
   "source": [
    "df_urban['word_chars_num'].quantile([0.1, 0.3, 0.5, 0.6, 0.7, 0.8, 0.9, 0.95, 0.99, 0.999])"
   ]
  },
  {
   "cell_type": "code",
   "execution_count": 35,
   "metadata": {
    "colab": {
     "base_uri": "https://localhost:8080/",
     "height": 612
    },
    "executionInfo": {
     "elapsed": 724,
     "status": "ok",
     "timestamp": 1622165411565,
     "user": {
      "displayName": "Parth Shah",
      "photoUrl": "https://lh3.googleusercontent.com/a-/AOh14GjJeayivmuVTkvMiHjGfvFsfc_2h_sZTkynMvny=s64",
      "userId": "03554453394681873488"
     },
     "user_tz": 240
    },
    "id": "QlcGGoapDptY",
    "outputId": "c7c67b19-137f-4967-f6c3-c188177d9233"
   },
   "outputs": [
    {
     "name": "stderr",
     "output_type": "stream",
     "text": [
      "/usr/local/lib/python3.6/dist-packages/seaborn/distributions.py:2557: FutureWarning: `distplot` is a deprecated function and will be removed in a future version. Please adapt your code to use either `displot` (a figure-level function with similar flexibility) or `histplot` (an axes-level function for histograms).\n",
      "  warnings.warn(msg, FutureWarning)\n"
     ]
    },
    {
     "data": {
      "image/png": "[encoded data removed]",
      "text/plain": [
       "<Figure size 864x576 with 1 Axes>"
      ]
     },
     "metadata": {},
     "output_type": "display_data"
    }
   ],
   "source": [
    "plot_hist(df_urban.word_words_num, bins=50,\n",
    "          title='Length of Words in Word',\n",
    "          xlabel='Length',\n",
    "          ylabel='Count')"
   ]
  },
  {
   "cell_type": "code",
   "execution_count": 36,
   "metadata": {
    "colab": {
     "base_uri": "https://localhost:8080/"
    },
    "executionInfo": {
     "elapsed": 78,
     "status": "ok",
     "timestamp": 1622165886558,
     "user": {
      "displayName": "Parth Shah",
      "photoUrl": "https://lh3.googleusercontent.com/a-/AOh14GjJeayivmuVTkvMiHjGfvFsfc_2h_sZTkynMvny=s64",
      "userId": "03554453394681873488"
     },
     "user_tz": 240
    },
    "id": "FPknBSoUD_UF",
    "outputId": "ab12458a-e1a6-48c1-e1ef-c8eb7cd8fea5"
   },
   "outputs": [
    {
     "data": {
      "text/plain": [
       "0.100    1.0\n",
       "0.300    1.0\n",
       "0.500    1.0\n",
       "0.600    2.0\n",
       "0.700    2.0\n",
       "0.800    2.0\n",
       "0.900    3.0\n",
       "0.950    3.0\n",
       "0.990    5.0\n",
       "0.999    9.0\n",
       "Name: word_words_num, dtype: float64"
      ]
     },
     "execution_count": 36,
     "metadata": {},
     "output_type": "execute_result"
    }
   ],
   "source": [
    "df_urban['word_words_num'].quantile([0.1, 0.3, 0.5, 0.6, 0.7, 0.8, 0.9, 0.95, 0.99, 0.999])"
   ]
  },
  {
   "cell_type": "code",
   "execution_count": 38,
   "metadata": {
    "colab": {
     "base_uri": "https://localhost:8080/"
    },
    "executionInfo": {
     "elapsed": 84,
     "status": "ok",
     "timestamp": 1622165900935,
     "user": {
      "displayName": "Parth Shah",
      "photoUrl": "https://lh3.googleusercontent.com/a-/AOh14GjJeayivmuVTkvMiHjGfvFsfc_2h_sZTkynMvny=s64",
      "userId": "03554453394681873488"
     },
     "user_tz": 240
    },
    "id": "vULpQv95EDoi",
    "outputId": "e27b0e42-d2e1-421b-c3cb-5be18e11be1f"
   },
   "outputs": [
    {
     "data": {
      "text/plain": [
       "array(['hong kong piss bucket', 'Scanned her bar code',\n",
       "       'Death toll rising rule', 'things that are not people',\n",
       "       \"Aunt Hony's special recipe\", 'Cry Baby Ass Nigga',\n",
       "       'koon midi pool nagiri', 'Darlington High School, S.C.',\n",
       "       'post shit syndrom (pss)',\n",
       "       \"Vous avez menti ans sur mon nom, je vous fait. Je suis en amour avec l'homme que vous repesented pas qui vous a agi comme\"],\n",
       "      dtype=object)"
      ]
     },
     "execution_count": 38,
     "metadata": {},
     "output_type": "execute_result"
    }
   ],
   "source": [
    "df_urban[df_urban.word_words_num > 3].sample(10)['word'].values"
   ]
  },
  {
   "cell_type": "markdown",
   "metadata": {
    "id": "1d6WqLzcEVLt"
   },
   "source": [
    "Ignore *words* that have > 9 words."
   ]
  },
  {
   "cell_type": "markdown",
   "metadata": {
    "id": "aFlOf491EjR1"
   },
   "source": [
    "### By Definition Analysis"
   ]
  },
  {
   "cell_type": "code",
   "execution_count": 39,
   "metadata": {
    "executionInfo": {
     "elapsed": 6265,
     "status": "ok",
     "timestamp": 1622165916113,
     "user": {
      "displayName": "Parth Shah",
      "photoUrl": "https://lh3.googleusercontent.com/a-/AOh14GjJeayivmuVTkvMiHjGfvFsfc_2h_sZTkynMvny=s64",
      "userId": "03554453394681873488"
     },
     "user_tz": 240
    },
    "id": "bn_6n9SIEq0P"
   },
   "outputs": [],
   "source": [
    "df_urban['defn_chars_num'] = df_urban['definition'].apply(lambda x: len(x))\n",
    "df_urban['defn_words_num'] = df_urban['definition'].apply(lambda x: len(x.split()))"
   ]
  },
  {
   "cell_type": "code",
   "execution_count": 40,
   "metadata": {
    "colab": {
     "base_uri": "https://localhost:8080/",
     "height": 612
    },
    "executionInfo": {
     "elapsed": 327,
     "status": "ok",
     "timestamp": 1622165434107,
     "user": {
      "displayName": "Parth Shah",
      "photoUrl": "https://lh3.googleusercontent.com/a-/AOh14GjJeayivmuVTkvMiHjGfvFsfc_2h_sZTkynMvny=s64",
      "userId": "03554453394681873488"
     },
     "user_tz": 240
    },
    "id": "xXuXunigE38g",
    "outputId": "8e8f3f82-0735-4a51-a2c9-b7e56308ebb3"
   },
   "outputs": [
    {
     "name": "stderr",
     "output_type": "stream",
     "text": [
      "/usr/local/lib/python3.6/dist-packages/seaborn/distributions.py:2557: FutureWarning: `distplot` is a deprecated function and will be removed in a future version. Please adapt your code to use either `displot` (a figure-level function with similar flexibility) or `histplot` (an axes-level function for histograms).\n",
      "  warnings.warn(msg, FutureWarning)\n"
     ]
    },
    {
     "data": {
      "image/png": "[encoded data removed]",
      "text/plain": [
       "<Figure size 864x576 with 1 Axes>"
      ]
     },
     "metadata": {},
     "output_type": "display_data"
    }
   ],
   "source": [
    "plot_hist(df_urban.defn_chars_num, bins=80,\n",
    "          title='Length of Characters in Definition',\n",
    "          xlabel='Length',\n",
    "          ylabel='Count')"
   ]
  },
  {
   "cell_type": "code",
   "execution_count": 41,
   "metadata": {
    "colab": {
     "base_uri": "https://localhost:8080/"
    },
    "executionInfo": {
     "elapsed": 5,
     "status": "ok",
     "timestamp": 1622165916113,
     "user": {
      "displayName": "Parth Shah",
      "photoUrl": "https://lh3.googleusercontent.com/a-/AOh14GjJeayivmuVTkvMiHjGfvFsfc_2h_sZTkynMvny=s64",
      "userId": "03554453394681873488"
     },
     "user_tz": 240
    },
    "id": "S1f0dhSmFHmR",
    "outputId": "e557ced5-f7da-482f-cdf7-8dab5b1ca0ee"
   },
   "outputs": [
    {
     "data": {
      "text/plain": [
       "0.100      38.0\n",
       "0.300      74.0\n",
       "0.500     114.0\n",
       "0.600     140.0\n",
       "0.700     175.0\n",
       "0.800     229.0\n",
       "0.900     337.0\n",
       "0.950     470.0\n",
       "0.990     935.0\n",
       "0.999    1643.0\n",
       "Name: defn_chars_num, dtype: float64"
      ]
     },
     "execution_count": 41,
     "metadata": {},
     "output_type": "execute_result"
    }
   ],
   "source": [
    "df_urban['defn_chars_num'].quantile([0.1, 0.3, 0.5, 0.6, 0.7, 0.8, 0.9, 0.95, 0.99, 0.999])"
   ]
  },
  {
   "cell_type": "code",
   "execution_count": 58,
   "metadata": {},
   "outputs": [
    {
     "data": {
      "text/plain": [
       "array([\"The act of  being cool /bad. something you can't believe is  owff . If someone does something that could get them into trouble, it may be owff.  Owff  could be something done  out of spite .\",\n",
       "       'When a guy is laying on his back, spreading his legs, and holding his knees. A girl snorts a line of coke off his ass cheeks and hocks a  loogie  of cocaine filled  snot  into  his asshole .',\n",
       "       'The section  of  a tool /device directly responsible for producing the desired effect of that tool/device. \\r   Generally used in the context of a threat, occasionally in a sexual  scenario .',\n",
       "       'its a small creature with 6 legs.  It lives in any  unwashed   vaginal area . Always be aware when you are with a bitch.....they might havea clit critter and it will  bit the dick  right off',\n",
       "       'This is a northern Wisconsin expression which is used to describe any number of  stiff  drinks made with whiskey or  Brandy . Commonly used to describe a Manahatan or a Brandy  Old Fashion .',\n",
       "       'A person that is very sexual and love to do it a lot.They are normally known as a  Pisces . They also are very romantic. They are kind,smart, secretive ,trustworthy,sexy and a great  kisser .',\n",
       "       'A very large part of the 90s UK  club scene . Some major clubs were Wigan pier, maximes, sanctuary and  cricketers . Many areas to donk were Bolton, Wigan, Burnley,  Farnworth  and Manchester',\n",
       "       'The sharp,heart stopping, stop  you dead  in your tracks pain you get near your anal opening. EBS   The reason is unclear and nothing comes of this mysterious pain... no poo , no flatulence.',\n",
       "       'A person who is annoying, and makes  unfunny  jokes An iddiot or gay Someone who  doesn\\'t look  attractive and thinks they are Can also be used with \"Dave\" to create more  impact  on the word',\n",
       "       'a person who dosent face reality and thinks everything is always ok  because jesus  is \"there\" usually overly happy and their answer to everything is \"god  made it  so\" or \" jesus loves you \"'],\n",
       "      dtype=object)"
      ]
     },
     "execution_count": 58,
     "metadata": {},
     "output_type": "execute_result"
    }
   ],
   "source": [
    "df_urban[(df_urban.defn_chars_num >= 190) & (df_urban.defn_chars_num <= 191)]['definition'].sample(10).values"
   ]
  },
  {
   "cell_type": "code",
   "execution_count": 61,
   "metadata": {
    "colab": {
     "base_uri": "https://localhost:8080/",
     "height": 612
    },
    "executionInfo": {
     "elapsed": 557,
     "status": "ok",
     "timestamp": 1622164809628,
     "user": {
      "displayName": "Parth Shah",
      "photoUrl": "https://lh3.googleusercontent.com/a-/AOh14GjJeayivmuVTkvMiHjGfvFsfc_2h_sZTkynMvny=s64",
      "userId": "03554453394681873488"
     },
     "user_tz": 240
    },
    "id": "FLRJVY5kFN4U",
    "outputId": "b7174a01-4667-49d8-8ab5-6372165de3c5"
   },
   "outputs": [
    {
     "name": "stderr",
     "output_type": "stream",
     "text": [
      "/usr/local/lib/python3.6/dist-packages/seaborn/distributions.py:2557: FutureWarning: `distplot` is a deprecated function and will be removed in a future version. Please adapt your code to use either `displot` (a figure-level function with similar flexibility) or `histplot` (an axes-level function for histograms).\n",
      "  warnings.warn(msg, FutureWarning)\n"
     ]
    },
    {
     "data": {
      "image/png": "[encoded data removed]",
      "text/plain": [
       "<Figure size 864x576 with 1 Axes>"
      ]
     },
     "metadata": {},
     "output_type": "display_data"
    }
   ],
   "source": [
    "plot_hist(df_urban.defn_words_num, bins=80,\n",
    "          title='Length of Words in Definition',\n",
    "          xlabel='Length',\n",
    "          ylabel='Count')"
   ]
  },
  {
   "cell_type": "code",
   "execution_count": 62,
   "metadata": {
    "colab": {
     "base_uri": "https://localhost:8080/"
    },
    "executionInfo": {
     "elapsed": 111,
     "status": "ok",
     "timestamp": 1622165448980,
     "user": {
      "displayName": "Parth Shah",
      "photoUrl": "https://lh3.googleusercontent.com/a-/AOh14GjJeayivmuVTkvMiHjGfvFsfc_2h_sZTkynMvny=s64",
      "userId": "03554453394681873488"
     },
     "user_tz": 240
    },
    "id": "s7F9T_tVGett",
    "outputId": "6249011b-3940-4d96-cbaa-004cbaa0021a"
   },
   "outputs": [
    {
     "data": {
      "text/plain": [
       "0.100      7.0\n",
       "0.300     13.0\n",
       "0.500     20.0\n",
       "0.600     25.0\n",
       "0.700     31.0\n",
       "0.800     41.0\n",
       "0.900     60.0\n",
       "0.950     83.0\n",
       "0.990    164.0\n",
       "0.999    291.0\n",
       "Name: defn_words_num, dtype: float64"
      ]
     },
     "execution_count": 62,
     "metadata": {},
     "output_type": "execute_result"
    }
   ],
   "source": [
    "df_urban['defn_words_num'].quantile([0.1, 0.3, 0.5, 0.6, 0.7, 0.8, 0.9, 0.95, 0.99, 0.999])"
   ]
  },
  {
   "cell_type": "code",
   "execution_count": 79,
   "metadata": {},
   "outputs": [
    {
     "data": {
      "text/plain": [
       "array([\"9.50am/ pm  is known as Cowboy Time, because if you say 'ten to ten' repeatedly, it sounds like a  galloping  horse - 'ten to  ten  to ten to ten to ten to ten to ten' etc.\",\n",
       "       'So Into You  by Atlanta Rhythm Section. That keyboard  riff  is one of the trippiest things I’ve ever heard in my life. I feel like I’m entering into a different  dimension  every time I listen to it.',\n",
       "       'Stands for \"I hate you so much right now\". Usually used when you hate someone at the moment of speaking and you want to  inform  him/her. Comes from the song  Caught Out There  performed by  Kelis .',\n",
       "       'Gotta\\r Homeboy Rollin In reference to  gnr , but used by white people that are tired of using lol, but afraid of saying Gotta  Nigga Rollin  because it might offend somebody, and get their ass kicked',\n",
       "       'another term for a camel toe. when the pants are worn so  high up  and tight that they get  wedged  between the  vagina lips . usually found on old woman, you really dont wanna see that, ever.',\n",
       "       '1. To take a massive poop\\r   2.  Taking a poop  in which most of  the poop  comes out at once, usually in one fantastic blast of awesomeness, usually  making noise .\\r   3. General term used for pooping',\n",
       "       'pronunciation varies by region, most commonly pronounced either “LOOS-vahrd-ee” or “LUHS-vahrd-ee”. directly translates to “lucky man”. a  surname  of only about  800  people. people with this surname are found in america,  brazil , italy, france, and germany.',\n",
       "       \"A common to some ( including me) syndrome that causes  underarm  or other  body part   sweating . If u see someone sweating a lot don't make fun of them because most likely it isn't their fault😢\",\n",
       "       'An extremely funny and unique girl. Her friends love her  and love  how strange she is. But if you are not her friend and  see how  she acts, you would think she was a weird  psychopath .',\n",
       "       'Noir  culture designed for the refined classes that is comprised of architectural pieces and other immutable objects that  comprise  a tableau; contrasted with \"low  noir \" items such as pulp fiction novels and other disposable consumer-oriented items.'],\n",
       "      dtype=object)"
      ]
     },
     "execution_count": 79,
     "metadata": {},
     "output_type": "execute_result"
    }
   ],
   "source": [
    "df_urban[(df_urban.defn_words_num > 35) & (df_urban.defn_words_num < 38)]['definition'].sample(10).values"
   ]
  },
  {
   "cell_type": "markdown",
   "metadata": {
    "id": "mwNNVUN3GpiT"
   },
   "source": [
    "Ignore defintions with word length > 38."
   ]
  },
  {
   "cell_type": "markdown",
   "metadata": {
    "id": "QP4S_tTLHW0A"
   },
   "source": [
    "### By Sentence Analysis"
   ]
  },
  {
   "cell_type": "code",
   "execution_count": 80,
   "metadata": {
    "executionInfo": {
     "elapsed": 4743,
     "status": "ok",
     "timestamp": 1622165989540,
     "user": {
      "displayName": "Parth Shah",
      "photoUrl": "https://lh3.googleusercontent.com/a-/AOh14GjJeayivmuVTkvMiHjGfvFsfc_2h_sZTkynMvny=s64",
      "userId": "03554453394681873488"
     },
     "user_tz": 240
    },
    "id": "4Pad7dRUIry2"
   },
   "outputs": [],
   "source": [
    "df_urban['sent_chars_num'] = df_urban['sentence'].apply(lambda x: len(x))\n",
    "df_urban['sent_words_num'] = df_urban['sentence'].apply(lambda x: len(x.split()))"
   ]
  },
  {
   "cell_type": "code",
   "execution_count": 81,
   "metadata": {
    "colab": {
     "base_uri": "https://localhost:8080/",
     "height": 612
    },
    "executionInfo": {
     "elapsed": 472,
     "status": "ok",
     "timestamp": 1622164832054,
     "user": {
      "displayName": "Parth Shah",
      "photoUrl": "https://lh3.googleusercontent.com/a-/AOh14GjJeayivmuVTkvMiHjGfvFsfc_2h_sZTkynMvny=s64",
      "userId": "03554453394681873488"
     },
     "user_tz": 240
    },
    "id": "MWf8FMCOI0lh",
    "outputId": "6c16fad4-c41e-48af-eaa1-12a638b2c559"
   },
   "outputs": [
    {
     "name": "stderr",
     "output_type": "stream",
     "text": [
      "/usr/local/lib/python3.6/dist-packages/seaborn/distributions.py:2557: FutureWarning: `distplot` is a deprecated function and will be removed in a future version. Please adapt your code to use either `displot` (a figure-level function with similar flexibility) or `histplot` (an axes-level function for histograms).\n",
      "  warnings.warn(msg, FutureWarning)\n"
     ]
    },
    {
     "data": {
      "image/png": "[encoded data removed]",
      "text/plain": [
       "<Figure size 864x576 with 1 Axes>"
      ]
     },
     "metadata": {},
     "output_type": "display_data"
    }
   ],
   "source": [
    "plot_hist(df_urban.sent_chars_num, bins=80,\n",
    "          title='Length of Characters in Sentence',\n",
    "          xlabel='Length',\n",
    "          ylabel='Count')"
   ]
  },
  {
   "cell_type": "code",
   "execution_count": 82,
   "metadata": {
    "colab": {
     "base_uri": "https://localhost:8080/"
    },
    "executionInfo": {
     "elapsed": 4,
     "status": "ok",
     "timestamp": 1622165989541,
     "user": {
      "displayName": "Parth Shah",
      "photoUrl": "https://lh3.googleusercontent.com/a-/AOh14GjJeayivmuVTkvMiHjGfvFsfc_2h_sZTkynMvny=s64",
      "userId": "03554453394681873488"
     },
     "user_tz": 240
    },
    "id": "RPXYSS16I81-",
    "outputId": "e87dd4ea-d562-46ae-a7e1-887b2d8043bc"
   },
   "outputs": [
    {
     "data": {
      "text/plain": [
       "0.100      34.000\n",
       "0.300      57.000\n",
       "0.500      81.000\n",
       "0.600      96.000\n",
       "0.700     114.000\n",
       "0.800     142.000\n",
       "0.900     195.000\n",
       "0.950     257.000\n",
       "0.990     465.000\n",
       "0.999    1089.467\n",
       "Name: sent_chars_num, dtype: float64"
      ]
     },
     "execution_count": 82,
     "metadata": {},
     "output_type": "execute_result"
    }
   ],
   "source": [
    "df_urban['sent_chars_num'].quantile([0.1, 0.3, 0.5, 0.6, 0.7, 0.8, 0.9, 0.95, 0.99, 0.999])"
   ]
  },
  {
   "cell_type": "code",
   "execution_count": 106,
   "metadata": {
    "colab": {
     "base_uri": "https://localhost:8080/"
    },
    "executionInfo": {
     "elapsed": 177,
     "status": "ok",
     "timestamp": 1622165995751,
     "user": {
      "displayName": "Parth Shah",
      "photoUrl": "https://lh3.googleusercontent.com/a-/AOh14GjJeayivmuVTkvMiHjGfvFsfc_2h_sZTkynMvny=s64",
      "userId": "03554453394681873488"
     },
     "user_tz": 240
    },
    "id": "Lq7GReKrJMle",
    "outputId": "c71ce47b-591c-4b8d-e94c-fb6f6e9433a4"
   },
   "outputs": [
    {
     "data": {
      "text/plain": [
       "(376796, 12)"
      ]
     },
     "execution_count": 106,
     "metadata": {},
     "output_type": "execute_result"
    }
   ],
   "source": [
    "df_urban[df_urban.sent_chars_num > 155].shape"
   ]
  },
  {
   "cell_type": "code",
   "execution_count": 109,
   "metadata": {},
   "outputs": [
    {
     "data": {
      "text/plain": [
       "array(['\"Look at that Italian, he can\\'t have fun, lets  woonce  him\"\\r   \" Woonce , woonce, woonce, woonce\"\\r   \"We woonced him good  shake  of  fist \"',\n",
       "       \"1.Man's drank too much  heny  last night and got hella  geazed 2.Went to the gym and got geazed 3.No need to get so geazed,  it's just a game\",\n",
       "       \"Let's hit the bar tonight braaaahh.  Sorry dude . I'm  handing  out at home. Rachel wants to visit with  stiff Richard  and imma hit it good.\",\n",
       "       'Foppa Crew  #77 Pat\\r Foppa Crew #98 JT\\r Foppa Crew #87  Stinger   Foppa Crew # 7 Jack\\r Foppa Crew #31  Allgood   Foppa Crew # 9 Wiz\\r   ETC...',\n",
       "       'Sean: wtf happened last night, i was so drunk i think i banged a man\\r Frank:  SHING DOW   Sean: Really dude!  I knew it . Thanks  allot  man.',\n",
       "       'Susan and  Brendon  both had  furniture  orgasms when they saw the new furniture and  fabric  that was going to be put on the showroom floor.',\n",
       "       'When i go to the  massage parlor , i always ask  the nice  Korean lady to go \"extra soft,\" so she would proceed to  give me some  bean play. ',\n",
       "       'your foot steps become theres. creepy huh. That person becomes the flying cock monkey..... \" look out   dorthy ,  the monkeys  will get you!\"',\n",
       "       \"1. SUGAR   KNUCKLES !!! I just ran over  an old lady !\\r   2.You're such a fucking  sugar  knuckle! How the hell do you run over an old lady?!\",\n",
       "       'fall  over and say  there we go like a pro  that would be for humour.\\r this is only really used for humour remember this and  use it  well ;)'],\n",
       "      dtype=object)"
      ]
     },
     "execution_count": 109,
     "metadata": {},
     "output_type": "execute_result"
    }
   ],
   "source": [
    "df_urban[(df_urban.sent_chars_num > 140) & (df_urban.sent_chars_num < 142)]['sentence'].sample(10).values"
   ]
  },
  {
   "cell_type": "code",
   "execution_count": 110,
   "metadata": {
    "colab": {
     "base_uri": "https://localhost:8080/",
     "height": 612
    },
    "executionInfo": {
     "elapsed": 1006,
     "status": "ok",
     "timestamp": 1622164846227,
     "user": {
      "displayName": "Parth Shah",
      "photoUrl": "https://lh3.googleusercontent.com/a-/AOh14GjJeayivmuVTkvMiHjGfvFsfc_2h_sZTkynMvny=s64",
      "userId": "03554453394681873488"
     },
     "user_tz": 240
    },
    "id": "2RswEluCLPL8",
    "outputId": "39a6f399-3503-4f33-dc71-262b66b42c75"
   },
   "outputs": [
    {
     "name": "stderr",
     "output_type": "stream",
     "text": [
      "/usr/local/lib/python3.6/dist-packages/seaborn/distributions.py:2557: FutureWarning: `distplot` is a deprecated function and will be removed in a future version. Please adapt your code to use either `displot` (a figure-level function with similar flexibility) or `histplot` (an axes-level function for histograms).\n",
      "  warnings.warn(msg, FutureWarning)\n"
     ]
    },
    {
     "data": {
      "image/png": "[encoded data removed]",
      "text/plain": [
       "<Figure size 864x576 with 1 Axes>"
      ]
     },
     "metadata": {},
     "output_type": "display_data"
    }
   ],
   "source": [
    "plot_hist(df_urban.sent_words_num, bins=200,\n",
    "          title='Length of Words in Sentence',\n",
    "          xlabel='Length',\n",
    "          ylabel='Count')"
   ]
  },
  {
   "cell_type": "code",
   "execution_count": 111,
   "metadata": {
    "colab": {
     "base_uri": "https://localhost:8080/"
    },
    "executionInfo": {
     "elapsed": 197,
     "status": "ok",
     "timestamp": 1622166003138,
     "user": {
      "displayName": "Parth Shah",
      "photoUrl": "https://lh3.googleusercontent.com/a-/AOh14GjJeayivmuVTkvMiHjGfvFsfc_2h_sZTkynMvny=s64",
      "userId": "03554453394681873488"
     },
     "user_tz": 240
    },
    "id": "y219RYh-LZ9R",
    "outputId": "b28ce6cc-0e97-4b9c-c1ba-c2f541c27cf2"
   },
   "outputs": [
    {
     "data": {
      "text/plain": [
       "0.100      6.0\n",
       "0.300     11.0\n",
       "0.500     15.0\n",
       "0.600     18.0\n",
       "0.700     21.0\n",
       "0.800     26.0\n",
       "0.900     36.0\n",
       "0.950     47.0\n",
       "0.990     84.0\n",
       "0.999    193.0\n",
       "Name: sent_words_num, dtype: float64"
      ]
     },
     "execution_count": 111,
     "metadata": {},
     "output_type": "execute_result"
    }
   ],
   "source": [
    "df_urban['sent_words_num'].quantile([0.1, 0.3, 0.5, 0.6, 0.7, 0.8, 0.9, 0.95, 0.99, 0.999])"
   ]
  },
  {
   "cell_type": "code",
   "execution_count": 120,
   "metadata": {
    "colab": {
     "base_uri": "https://localhost:8080/"
    },
    "executionInfo": {
     "elapsed": 190,
     "status": "ok",
     "timestamp": 1622166017257,
     "user": {
      "displayName": "Parth Shah",
      "photoUrl": "https://lh3.googleusercontent.com/a-/AOh14GjJeayivmuVTkvMiHjGfvFsfc_2h_sZTkynMvny=s64",
      "userId": "03554453394681873488"
     },
     "user_tz": 240
    },
    "id": "cxE1HhGNLdS5",
    "outputId": "84c1c0df-01ea-4b1c-af27-3e20739b164f"
   },
   "outputs": [
    {
     "data": {
      "text/plain": [
       "(488271, 12)"
      ]
     },
     "execution_count": 120,
     "metadata": {},
     "output_type": "execute_result"
    }
   ],
   "source": [
    "df_urban[df_urban['sent_words_num'] > 25].shape"
   ]
  },
  {
   "cell_type": "code",
   "execution_count": 122,
   "metadata": {},
   "outputs": [
    {
     "data": {
      "text/plain": [
       "array(['girl- \"why did u drop my phone?\"\\r boy- \"bitch,  who u  talkin to  like dat ?\"\\r girl- \"mother fucker,  DONT DO ME !\"',\n",
       "       \"Man I just  got off  a 12 hour  shift  and I'm off for the weekend, I'm about to go  sip  me a panglasso.\",\n",
       "       '\"Wow, she\\'s  so pretty ! and really sweet! Must be a Kaycie\"\\r \"Be  careful  though, I heard she can easily  ruin  your life\"',\n",
       "       '\"Dan  get in the truck . Lets go down to the  snake pit  and find a bitch to fuck  the gay  out of you.\"',\n",
       "       '“The guy I  hooked up  with had a pretty hole, we had a  great time .” “ Damn you  have such a pretty hole”',\n",
       "       'That guy  walks  like he has been  Key  Wested.\\r That girl walks like she has been doing a lot of Key  Westing .',\n",
       "       \"Person 1: Man, I can't get  Recon  in  Halo !\\r Person 2: Well, I have  Recon Armor . Also, I have this cake.\",\n",
       "       '\"Last night I was looking through a  yearbook ... Taking  a trip  down  memory lane  or as I like to call it... fucker alley!..\"',\n",
       "       'girl;( cussin  the boy out)\\r boy on the phone ( yo my gurl ova hea havin a  tity  atack she ova hea  whylin )',\n",
       "       'Yo Nick has the worst CSAS (Convenience Store Addiction Syndrome), last night when we were  cruising  he went to  7-11   three times .'],\n",
       "      dtype=object)"
      ]
     },
     "execution_count": 122,
     "metadata": {},
     "output_type": "execute_result"
    }
   ],
   "source": [
    "df_urban[(df_urban.sent_words_num > 22) & (df_urban.sent_words_num < 25)]['sentence'].sample(10).values"
   ]
  },
  {
   "cell_type": "markdown",
   "metadata": {
    "id": "VtSZ82qsM-5o"
   },
   "source": [
    "### Most Frequent Words used in Words, Meaning and Sentence"
   ]
  },
  {
   "cell_type": "code",
   "execution_count": null,
   "metadata": {
    "colab": {
     "base_uri": "https://localhost:8080/",
     "height": 1000,
     "output_embedded_package_id": "1W31qnY3XAjv7DwQNfY-DQ6guXqE0rIeM"
    },
    "executionInfo": {
     "elapsed": 65738,
     "status": "ok",
     "timestamp": 1621901141524,
     "user": {
      "displayName": "Parth Shah",
      "photoUrl": "https://lh3.googleusercontent.com/a-/AOh14GjJeayivmuVTkvMiHjGfvFsfc_2h_sZTkynMvny=s64",
      "userId": "03554453394681873488"
     },
     "user_tz": 240
    },
    "id": "xz4rvLPaNGCy",
    "outputId": "fbbb5460-ae5d-4bd0-bce4-731babfcdab8"
   },
   "outputs": [
    {
     "data": {
      "text/plain": [
       "Output hidden; open in https://colab.research.google.com to view."
      ]
     },
     "metadata": {},
     "output_type": "display_data"
    }
   ],
   "source": [
    "for cat in sorted(df_urban['character'].value_counts().index):\n",
    "\n",
    "  text = ' '.join(df_urban[df_urban['character'] == cat]['word'].values)\n",
    "\n",
    "  wordcloud = WordCloud(stopwords=set(STOPWORDS)).generate(text)\n",
    "\n",
    "  plt.figure(figsize=(16,8))\n",
    "  plt.imshow(wordcloud, interpolation='bilinear')\n",
    "  plt.axis(\"off\")\n",
    "  plt.title(f'WordCloud for character {cat}', fontsize=26)"
   ]
  },
  {
   "cell_type": "markdown",
   "metadata": {
    "id": "v0bIP2gGzHmB"
   },
   "source": [
    "## Cleaning To-Do's\n",
    "\n",
    "Cleaning data based off the EDA.\n",
    "\n",
    "- Remove any row with nulls or nans. ✅ \n",
    "\n",
    "- Replace \\r with single white space in a string. ✅ \n",
    "\n",
    "- Remove trailing white spaces at the end. ✅ \n",
    "\n",
    "- Remove word / meaning / sentence that are empty strings. (None of them have empty strings) ✅ \n",
    "\n",
    "- Replace all spaces that exist before a period symbol or punctuation at the end. ✅ \n",
    "\n",
    "- Replace double or more spaces with single space. ✅ \n",
    "\n",
    "- Remove emojis. ✅ \n",
    "\n",
    "- Apply transformations based off EDA. ✅ "
   ]
  },
  {
   "cell_type": "code",
   "execution_count": null,
   "metadata": {
    "id": "SxK6SGOX5oyh"
   },
   "outputs": [],
   "source": [
    "df_sample = df_urban[['word', 'definition', 'sentence']].sample(10)\n",
    "\n",
    "for i in df_sample.values:\n",
    "  i[1] = re.sub('\\r', ' ', i[1])\n",
    "  i[2] = re.sub('\\r', ' ', i[2])\n",
    "  print(\"Word: \", i[0])\n",
    "  print(\"Meaning: \", i[1])\n",
    "  print(\"Sentence: \", i[2])\n",
    "  print(\"---\"*20)"
   ]
  },
  {
   "cell_type": "code",
   "execution_count": 125,
   "metadata": {
    "colab": {
     "base_uri": "https://localhost:8080/"
    },
    "executionInfo": {
     "elapsed": 129473,
     "status": "ok",
     "timestamp": 1622166178356,
     "user": {
      "displayName": "Parth Shah",
      "photoUrl": "https://lh3.googleusercontent.com/a-/AOh14GjJeayivmuVTkvMiHjGfvFsfc_2h_sZTkynMvny=s64",
      "userId": "03554453394681873488"
     },
     "user_tz": 240
    },
    "id": "XGICdjHN2KQP",
    "outputId": "4d5b9560-6466-443b-b2a1-51ef15107b9b"
   },
   "outputs": [
    {
     "name": "stdout",
     "output_type": "stream",
     "text": [
      "--------------------------------------------------\n",
      "Loading data...\n",
      "Data loaded.\n",
      "Data shape:  (2281497, 6)\n",
      "--------------------------------------------------\n",
      "Records with at least one column null:  4963\n",
      "Dropping nulls.\n",
      "New data shape:  (2276534, 8)\n",
      "--------------------------------------------------\n",
      "Applying transformation based off EDA.\n",
      "After filtering based on word length:  2040610\n",
      "After filtering based on definition length:  1510635\n",
      "After filtering based on sentence length:  1287550\n",
      "New dataframe shape:  (1287550, 14)\n",
      "--------------------------------------------------\n",
      "Cleaning texts...\n",
      "Data shape:  (1287550, 14)\n",
      "--------------------------------------------------\n",
      "Success!\n"
     ]
    }
   ],
   "source": [
    "import os\n",
    "import re\n",
    "import pandas as pd\n",
    "from tqdm.auto import tqdm\n",
    "\n",
    "# set globals\n",
    "DATA_DIR = os.path.join(os.getcwd(), 'data')\n",
    "COL_NAMES = ['character', 'browsing_page_url', 'word_url', 'word', 'definition', 'sentence']\n",
    "\n",
    "def replace_special(string):\n",
    "  \"\"\"Replace special \\r character from text.\"\"\"\n",
    "  new_str = re.sub('\\r', ' ', string)\n",
    "  return new_str\n",
    "\n",
    "def replace_space_before_punct(string):\n",
    "  \"\"\"Remove all existing spaces before punctuation.\"\"\"\n",
    "  new_str = re.sub(r\"\\b\\s+’\\b\", r\"'\", string)\n",
    "  new_str = re.sub(r\"\\\"\\s\\b\", r'\"', new_str)\n",
    "  new_str = re.sub(r\"\\b\\s+,\\s*\\b\", r', ', new_str)\n",
    "  new_str = re.sub(r'\\s([?.!\"](?:\\s|$))', r'\\1', new_str)\n",
    "  return new_str\n",
    "\n",
    "def replace_double_spaces(string):\n",
    "  \"\"\"Replace all more than one spaces to single space.\"\"\"\n",
    "  return ' '.join(string.split())\n",
    "\n",
    "def remove_emoji(string):\n",
    "  \"\"\"Replace emojis from text\n",
    "  Source: https://stackoverflow.com/a/49146722/330558\"\"\"\n",
    "\n",
    "  emoji_pattern = re.compile(\"[\"\n",
    "                          u\"\\U0001F600-\\U0001F64F\"  # emoticons\n",
    "                          u\"\\U0001F300-\\U0001F5FF\"  # symbols & pictographs\n",
    "                          u\"\\U0001F680-\\U0001F6FF\"  # transport & map symbols\n",
    "                          u\"\\U0001F1E0-\\U0001F1FF\"  # flags (iOS)\n",
    "                          u\"\\U00002702-\\U000027B0\"\n",
    "                          u\"\\U000024C2-\\U0001F251\"\n",
    "                          \"]+\", flags=re.UNICODE)\n",
    "    \n",
    "  return emoji_pattern.sub(r'', string)\n",
    "\n",
    "def eda_based_cleaning(df):\n",
    "  \"\"\"Filter data based off observations from EDA.\"\"\"\n",
    "\n",
    "  df['word_chars_num'] = df['word'].apply(lambda x: len(x))\n",
    "  df['word_words_num'] = df['word'].apply(lambda x: len(x.split()))\n",
    "  df['defn_chars_num'] = df['definition'].apply(lambda x: len(x))\n",
    "  df['defn_words_num'] = df['definition'].apply(lambda x: len(x.split()))\n",
    "  df['sent_chars_num'] = df['sentence'].apply(lambda x: len(x))\n",
    "  df['sent_words_num'] = df['sentence'].apply(lambda x: len(x.split()))\n",
    "  \n",
    "  df = df[~((df.word_chars_num > 17) | (df.word_words_num > 3))]\n",
    "  print(\"After filtering based on word length: \", df.shape[0])\n",
    "  df = df[~((df.defn_chars_num > 190) | (df.defn_words_num > 38))]\n",
    "  print(\"After filtering based on definition length: \", df.shape[0])\n",
    "  df = df[~((df.sent_chars_num > 155) | (df.sent_words_num > 25))]\n",
    "  print(\"After filtering based on sentence length: \", df.shape[0])\n",
    "\n",
    "  print(\"New dataframe shape: \", df.shape)\n",
    "\n",
    "  return df\n",
    "\n",
    "def final_clean(text):\n",
    "  \"\"\"Main function to apply all cleaning functions.\"\"\"\n",
    "  cleaned_text = replace_special(text)\n",
    "  cleaned_text = replace_space_before_punct(cleaned_text)\n",
    "  cleaned_text = replace_double_spaces(cleaned_text)\n",
    "  cleaned_text = remove_emoji(cleaned_text)\n",
    "\n",
    "  return cleaned_text\n",
    "\n",
    "if __name__ == \"__main__\":\n",
    "  print(\"-\"*50)\n",
    "  print(\"Loading data...\")\n",
    "  file_paths = []\n",
    "  for root, dirs, files in os.walk(DATA_DIR):\n",
    "    for f in files:\n",
    "      if f.endswith('.csv') and f.startswith('urban_data'):\n",
    "        file_paths.append(os.path.join(root, f))\n",
    "\n",
    "  df_urban = pd.concat([pd.read_csv(f, names=COL_NAMES) for f in file_paths])\n",
    "  print(\"Data loaded.\")\n",
    "  print(\"Data shape: \", df_urban.shape)\n",
    "  df_urban.reset_index(inplace=True)\n",
    "  print(\"-\"*50)\n",
    "\n",
    "  df_nulls = df_urban[(df_urban.isnull().any(axis=1)) | (df_urban.isna().any(axis=1))]\n",
    "  print(\"Records with at least one column null: \", df_nulls.shape[0])\n",
    "  print(\"Dropping nulls.\")\n",
    "  df_urban = df_urban.drop(df_nulls.index)\n",
    "  df_urban.reset_index(inplace=True)\n",
    "  print(\"New data shape: \", df_urban.shape)\n",
    "  print(\"-\"*50)\n",
    "\n",
    "  print(\"Applying transformation based off EDA.\")\n",
    "  df_urban_new = eda_based_cleaning(df_urban)\n",
    "  print(\"-\"*50)\n",
    "\n",
    "  print(\"Cleaning texts...\")\n",
    "  df_urban_new['word'] = df_urban_new['word'].apply(lambda x: final_clean(x))\n",
    "  df_urban_new['definition'] = df_urban_new['definition'].apply(lambda x: final_clean(x))\n",
    "  df_urban_new['sentence'] = df_urban_new['sentence'].apply(lambda x: final_clean(x))\n",
    "  print(\"Data shape: \", df_urban_new.shape)\n",
    "  print(\"-\"*50)\n",
    "\n",
    "  print(\"Success!\")"
   ]
  },
  {
   "cell_type": "code",
   "execution_count": 126,
   "metadata": {
    "executionInfo": {
     "elapsed": 998,
     "status": "ok",
     "timestamp": 1622166184188,
     "user": {
      "displayName": "Parth Shah",
      "photoUrl": "https://lh3.googleusercontent.com/a-/AOh14GjJeayivmuVTkvMiHjGfvFsfc_2h_sZTkynMvny=s64",
      "userId": "03554453394681873488"
     },
     "user_tz": 240
    },
    "id": "nK3s2hwUleUd"
   },
   "outputs": [],
   "source": [
    "df_urban_new.dropna(inplace=True)"
   ]
  },
  {
   "cell_type": "code",
   "execution_count": 127,
   "metadata": {
    "colab": {
     "base_uri": "https://localhost:8080/"
    },
    "executionInfo": {
     "elapsed": 5,
     "status": "ok",
     "timestamp": 1622166184189,
     "user": {
      "displayName": "Parth Shah",
      "photoUrl": "https://lh3.googleusercontent.com/a-/AOh14GjJeayivmuVTkvMiHjGfvFsfc_2h_sZTkynMvny=s64",
      "userId": "03554453394681873488"
     },
     "user_tz": 240
    },
    "id": "QXOB7O-Uljpz",
    "outputId": "864ddf35-7a26-4e8f-ef46-b751fcd073c0"
   },
   "outputs": [
    {
     "data": {
      "text/plain": [
       "(1287550, 14)"
      ]
     },
     "execution_count": 127,
     "metadata": {},
     "output_type": "execute_result"
    }
   ],
   "source": [
    "df_urban_new.shape"
   ]
  },
  {
   "cell_type": "markdown",
   "metadata": {},
   "source": [
    "### New pre-processed data samples"
   ]
  },
  {
   "cell_type": "code",
   "execution_count": 132,
   "metadata": {
    "colab": {
     "base_uri": "https://localhost:8080/"
    },
    "executionInfo": {
     "elapsed": 340,
     "status": "ok",
     "timestamp": 1622166233465,
     "user": {
      "displayName": "Parth Shah",
      "photoUrl": "https://lh3.googleusercontent.com/a-/AOh14GjJeayivmuVTkvMiHjGfvFsfc_2h_sZTkynMvny=s64",
      "userId": "03554453394681873488"
     },
     "user_tz": 240
    },
    "id": "sC_xtdCiGwJP",
    "outputId": "44ca829c-ecb3-4260-e0a4-90f8064df807"
   },
   "outputs": [
    {
     "name": "stdout",
     "output_type": "stream",
     "text": [
      "Word:  Woman's Cookie\n",
      "Meaning:  Another word for a woman's vagina.\n",
      "Sentence:  \"She was keeping her woman's cookie away from her spouse .\"\n",
      "------------------------------------------------------------\n",
      "Word:  Support Hose\n",
      "Meaning:  Panty hose your grandma wears to keep her tummy tucked in. It's extra tight up there.\n",
      "Sentence:  My grandma's support hose hung on the line.\n",
      "------------------------------------------------------------\n",
      "Word:  ho-house\n",
      "Meaning:  A house where you can find prostitutes\n",
      "Sentence:  Let's go to the ho-house and see if we can get some cheap whores.\n",
      "------------------------------------------------------------\n",
      "Word:  elodea\n",
      "Meaning:  a plant that lives under water.\n",
      "Sentence:  an elodea is a plant\n",
      "------------------------------------------------------------\n",
      "Word:  jahleek\n",
      "Meaning:  two faced douchebag\n",
      "Sentence:  Jahleek is a liar, jerk , & fake.\n",
      "------------------------------------------------------------\n",
      "Word:  rendonite\n",
      "Meaning:  a shady, no good, pond scum male/female from rendon texas. someone who will steal your stuff and help u look for it.\n",
      "Sentence:  can you believe that rendonite?\n",
      "------------------------------------------------------------\n",
      "Word:  tt4n\n",
      "Meaning:  Tah, Tah, for now ...\n",
      "Sentence:  For use with chat, a short response for a farewell salutation. \"I've got to go now, TT4N .\"\n",
      "------------------------------------------------------------\n",
      "Word:  Brown-Hovelt\n",
      "Meaning:  Heros of Great Britain and Ireland\n",
      "Sentence:  \"Martin Johnson is such a Brown-Hovelt\" \"so was Michael Vaughn in 2005 but now he is more of a Naughten\"\n",
      "------------------------------------------------------------\n",
      "Word:  Wobbly Mabli\n",
      "Meaning:  A welsh girl who is too wankered to walk straight.\n",
      "Sentence:  She was definitely a wobbly Mabli when she ran into a telephone pole on the way home from the pub last night.\n",
      "------------------------------------------------------------\n",
      "Word:  Asım\n",
      "Meaning:  Asım is the best boyfriend you can get.\n",
      "Sentence:  Asım is awesome.\n",
      "------------------------------------------------------------\n"
     ]
    }
   ],
   "source": [
    "df_sample = df_urban_new[['word', 'definition', 'sentence']].sample(10)\n",
    "\n",
    "for i in df_sample.values:\n",
    "  i[1] = re.sub('\\r', ' ', i[1])\n",
    "  i[2] = re.sub('\\r', ' ', i[2])\n",
    "  print(\"Word: \", i[0])\n",
    "  print(\"Meaning: \", i[1])\n",
    "  print(\"Sentence: \", i[2])\n",
    "  print(\"---\"*20)"
   ]
  },
  {
   "cell_type": "code",
   "execution_count": 133,
   "metadata": {
    "executionInfo": {
     "elapsed": 25352,
     "status": "ok",
     "timestamp": 1622166267861,
     "user": {
      "displayName": "Parth Shah",
      "photoUrl": "https://lh3.googleusercontent.com/a-/AOh14GjJeayivmuVTkvMiHjGfvFsfc_2h_sZTkynMvny=s64",
      "userId": "03554453394681873488"
     },
     "user_tz": 240
    },
    "id": "hPhFwhL4_0pW"
   },
   "outputs": [],
   "source": [
    "df_urban_new = df_urban_new[['character', 'browsing_page_url', 'word_url', 'word', 'definition', 'sentence']]\n",
    "\n",
    "\n",
    "df_urban_new.to_csv(os.path.join(DATA_DIR, 'final_cleaned_words.csv'),\n",
    "                    index=False)"
   ]
  },
  {
   "cell_type": "code",
   "execution_count": 134,
   "metadata": {
    "executionInfo": {
     "elapsed": 9951,
     "status": "ok",
     "timestamp": 1622166311954,
     "user": {
      "displayName": "Parth Shah",
      "photoUrl": "https://lh3.googleusercontent.com/a-/AOh14GjJeayivmuVTkvMiHjGfvFsfc_2h_sZTkynMvny=s64",
      "userId": "03554453394681873488"
     },
     "user_tz": 240
    },
    "id": "JvV2y6MnMFXd"
   },
   "outputs": [],
   "source": [
    "test = pd.read_csv(os.path.join(DATA_DIR, 'final_cleaned_words.csv'))"
   ]
  },
  {
   "cell_type": "code",
   "execution_count": 135,
   "metadata": {
    "colab": {
     "base_uri": "https://localhost:8080/"
    },
    "executionInfo": {
     "elapsed": 4,
     "status": "ok",
     "timestamp": 1622166312225,
     "user": {
      "displayName": "Parth Shah",
      "photoUrl": "https://lh3.googleusercontent.com/a-/AOh14GjJeayivmuVTkvMiHjGfvFsfc_2h_sZTkynMvny=s64",
      "userId": "03554453394681873488"
     },
     "user_tz": 240
    },
    "id": "uJgdxL9ipXYO",
    "outputId": "407e217a-338d-42c2-f72a-a122af140ecc"
   },
   "outputs": [
    {
     "data": {
      "text/plain": [
       "(1287550, 6)"
      ]
     },
     "execution_count": 135,
     "metadata": {},
     "output_type": "execute_result"
    }
   ],
   "source": [
    "test.shape"
   ]
  },
  {
   "cell_type": "code",
   "execution_count": 136,
   "metadata": {
    "colab": {
     "base_uri": "https://localhost:8080/"
    },
    "executionInfo": {
     "elapsed": 218,
     "status": "ok",
     "timestamp": 1622166323188,
     "user": {
      "displayName": "Parth Shah",
      "photoUrl": "https://lh3.googleusercontent.com/a-/AOh14GjJeayivmuVTkvMiHjGfvFsfc_2h_sZTkynMvny=s64",
      "userId": "03554453394681873488"
     },
     "user_tz": 240
    },
    "id": "IRmnRHFnLdu-",
    "outputId": "cdfa8204-6de6-458d-fd35-229947354849"
   },
   "outputs": [
    {
     "data": {
      "text/plain": [
       "S    155936\n",
       "B    103982\n",
       "C     98612\n",
       "D     97374\n",
       "P     79609\n",
       "T     78347\n",
       "M     75357\n",
       "F     67609\n",
       "A     58870\n",
       "G     55200\n",
       "H     50407\n",
       "R     45235\n",
       "L     42320\n",
       "W     40010\n",
       "J     38707\n",
       "K     35500\n",
       "E     27488\n",
       "I     24681\n",
       "N     23768\n",
       "O     22626\n",
       "V     17250\n",
       "Y     15766\n",
       "U     12956\n",
       "Z     10140\n",
       "Q      6912\n",
       "X      2888\n",
       "Name: character, dtype: int64"
      ]
     },
     "execution_count": 136,
     "metadata": {},
     "output_type": "execute_result"
    }
   ],
   "source": [
    "test.character.value_counts()"
   ]
  },
  {
   "cell_type": "code",
   "execution_count": null,
   "metadata": {
    "id": "yDa6Yk53MLjR"
   },
   "outputs": [],
   "source": []
  }
 ],
 "metadata": {
  "colab": {
   "authorship_tag": "ABX9TyO4+NKsRpbDjOA0j6t4dPOZ",
   "collapsed_sections": [
    "aFlOf491EjR1",
    "QP4S_tTLHW0A",
    "VtSZ82qsM-5o"
   ],
   "mount_file_id": "1DpZqnermWA49o39ZSoVs0IscBowo7Bl-",
   "name": "Exploratory_Analysis_and_Cleaning.ipynb",
   "provenance": []
  },
  "kernelspec": {
   "display_name": "Python 3",
   "language": "python",
   "name": "python3"
  },
  "language_info": {
   "codemirror_mode": {
    "name": "ipython",
    "version": 3
   },
   "file_extension": ".py",
   "mimetype": "text/x-python",
   "name": "python",
   "nbconvert_exporter": "python",
   "pygments_lexer": "ipython3",
   "version": "3.6.9"
  }
 },
 "nbformat": 4,
 "nbformat_minor": 4
}
