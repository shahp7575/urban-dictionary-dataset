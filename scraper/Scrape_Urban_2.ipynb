{
 "cells": [
  {
   "cell_type": "markdown",
   "metadata": {},
   "source": [
    "## Scraper\n",
    "\n",
    "Run this cell to scrape the data form https://www.urbandictionary.com. Change the arguments in `char_range(c1, c2)` based on the characters you want for your data. \n",
    "\n",
    "Sometimes the scraper may throw a *ConnectionResetError* error. The scraper will then attempt to re-run for 3 times from where it had stopped. If still not successful, it will stop. Because of this, there has been cases where I had to manually set the value to let the scraper know to start from that particular word for a character - `ch_url_idx` in `scraper(c, ch_url_idx)`. This definitely could be optimized! "
   ]
  },
  {
   "cell_type": "code",
   "execution_count": null,
   "metadata": {
    "colab": {
     "base_uri": "https://localhost:8080/",
     "height": 171,
     "referenced_widgets": [
      "b245e9661157499e98db1b317f4f187f",
      "c03e35b72ec34bf883fde758747171cd",
      "a4dd245234d242d09f8671e689999caf",
      "4434c98fb4464be7abf298c2f1272725",
      "293b70dd5ea640b49c65c3b7bdfd2da0",
      "643a50c8a79e48f6b5bc9b95b271c5a7",
      "d3b8bd6f90464339ad50dfc5636ab801",
      "9b9d24b0745943bca9def35bbb04b148"
     ]
    },
    "executionInfo": {
     "elapsed": 2003057,
     "status": "ok",
     "timestamp": 1617930912098,
     "user": {
      "displayName": "Parth Shah",
      "photoUrl": "https://lh3.googleusercontent.com/a-/AOh14GjJeayivmuVTkvMiHjGfvFsfc_2h_sZTkynMvny=s64",
      "userId": "03554453394681873488"
     },
     "user_tz": 240
    },
    "id": "AS9cue_knj9R",
    "outputId": "6005427c-21ac-4ca0-8ea8-deaf7155ddbc"
   },
   "outputs": [
    {
     "name": "stdout",
     "output_type": "stream",
     "text": [
      "--------------------------------------------------\n",
      "This character O has 283 pages.\n",
      "Starting scraping with URL https://www.urbandictionary.com/browse.php?character=O\n"
     ]
    },
    {
     "data": {
      "application/vnd.jupyter.widget-view+json": {
       "model_id": "b245e9661157499e98db1b317f4f187f",
       "version_major": 2,
       "version_minor": 0
      },
      "text/plain": [
       "HBox(children=(FloatProgress(value=0.0, max=283.0), HTML(value='')))"
      ]
     },
     "metadata": {
      "tags": []
     },
     "output_type": "display_data"
    },
    {
     "name": "stdout",
     "output_type": "stream",
     "text": [
      "\n",
      "Success! Character O complete.\n",
      "--------------------------------------------------\n"
     ]
    }
   ],
   "source": [
    "import os\n",
    "import csv\n",
    "import bs4\n",
    "import time\n",
    "import urllib\n",
    "import concurrent.futures\n",
    "from urllib.request import Request\n",
    "from tqdm.auto import tqdm\n",
    "\n",
    "# GLOBAL\n",
    "SITE_URL = \"https://www.urbandictionary.com\"\n",
    "BY_LETTER_URL = SITE_URL+f\"/browse.php?character=\"\n",
    "DATA_DIR = os.path.join(os.getcwd(), 'data')\n",
    "MAX_THREADS = 50\n",
    "\n",
    "# https://stackoverflow.com/questions/7001144/range-over-character-in-python\n",
    "def char_range(c1, c2):\n",
    "  \"\"\"Generates the characters from `c1` to `c2`, inclusive.\"\"\"\n",
    "  for c in range(ord(c1), ord(c2)+1):\n",
    "      yield chr(c)\n",
    "\n",
    "def urllib_request(url, try_count=0):\n",
    "  \"\"\"Makes urllib requests with try and catch, if it throws a ConnectionResetError.\n",
    "  If error thrown, it will try 3 more times every minute before it exits the function.\n",
    "  Args:\n",
    "  -----\n",
    "  url: str\n",
    "    Site URL\n",
    "  Returns:\n",
    "  --------\n",
    "  html: Request object\n",
    "  \"\"\"\n",
    "\n",
    "  try:\n",
    "    html = urllib.request.urlopen(Request(url, headers={'User-Agent': 'Mozilla'}))\n",
    "    time.sleep(0.25)\n",
    "    return html\n",
    "  except urllib.error.URLError or ConnectionResetError:\n",
    "    print(f\"Trying again... \\n{try_count+1} times.\")\n",
    "    time.sleep(60)\n",
    "    try_count += 1\n",
    "    if try_count == 3:\n",
    "      print(\"Ended after many tries.\")\n",
    "      exit\n",
    "    else:\n",
    "      urllib_request(url, try_count=try_count)\n",
    "\n",
    "def get_char_pages_url(ch):\n",
    "  \"\"\"Get all URLs for given character from the web page.\n",
    "  Args:\n",
    "  -----\n",
    "  ch: str\n",
    "    Single alphabetic character (uppercase)\n",
    "  Returns:\n",
    "  --------\n",
    "  all_char_urls: list\n",
    "    List of all URLs for the given character\n",
    "  \"\"\"\n",
    "  if ch.islower():\n",
    "    ch = ch.upper()\n",
    "  \n",
    "  first_page_url = BY_LETTER_URL + ch\n",
    "  html = urllib_request(first_page_url, try_count=0).read()\n",
    "  raw = bs4.BeautifulSoup(html, 'lxml')\n",
    "  results = raw.find('div', {'class': 'pagination-centered'}).find_all('a')[-2:]\n",
    "  min_page = int(results[0].get('href').split('=')[-1])\n",
    "  max_page = int(results[1].get('href').split('=')[-1])\n",
    "  all_char_urls = [first_page_url]+[first_page_url+f'&page={page}' for page in range(min_page, max_page+1)]\n",
    "\n",
    "  return all_char_urls\n",
    "\n",
    "def get_word_urls(char_url):\n",
    "  \"\"\"Get the URLs for each word page.\n",
    "  Args:\n",
    "  -----\n",
    "  char_urls: str\n",
    "    Browsing page URL\n",
    "  Returns:\n",
    "  --------\n",
    "  all_word_urls: list\n",
    "    Word page URLs\n",
    "  \"\"\"\n",
    "  html = urllib_request(char_url, try_count=0).read()\n",
    "  raw = bs4.BeautifulSoup(html, 'lxml')\n",
    "  results = raw.find('div', {'id': 'columnist'}).find_all('a')\n",
    "  all_word_urls = [SITE_URL+r.get('href') for r in results]\n",
    "\n",
    "  return all_word_urls\n",
    "\n",
    "def get_word_data(word_url):\n",
    "  \"\"\"Get the word, meaning and sentence from a given word URL\n",
    "  Args:\n",
    "  -----\n",
    "  word_url: str\n",
    "    Word page URL\n",
    "  Returns:\n",
    "  --------\n",
    "  word: str\n",
    "    Word from the page\n",
    "  definition: str\n",
    "    Word's meaning from the page\n",
    "  sentence: str\n",
    "    Sentence example from the page\n",
    "  \"\"\"\n",
    "  html = urllib_request(word_url, try_count=0).read()\n",
    "  raw = bs4.BeautifulSoup(html, 'lxml')\n",
    "  word = raw.find('div', {'class': 'def-header'}).text.strip()\n",
    "  definition = ' '.join(raw.find('div', {'class': 'meaning'}).get_text('\\n').split('\\n'))\n",
    "  sentence = ' '.join(raw.find('div', {'class': 'example'}).get_text('\\n').split('\\n'))\n",
    "\n",
    "  return word_url, word, definition, sentence\n",
    "\n",
    "def write_to_file(c, urban_data):\n",
    "\n",
    "  data_path = os.path.join(DATA_DIR, f'character_{c}')\n",
    "  data_file_path = os.path.join(data_path, f'urban_data_{c}.csv')\n",
    "  if not os.path.exists(data_path):\n",
    "    os.makedirs(data_path)\n",
    "\n",
    "  with open(data_file_path, 'a') as data_file:\n",
    "    for line in urban_data:\n",
    "      writer = csv.writer(data_file, delimiter=',')\n",
    "      writer.writerow(line)\n",
    "\n",
    "def scraper(c, ch_url_idx):\n",
    "  \"\"\"Main function of this script that gets all the data.\n",
    "  Args:\n",
    "  -----\n",
    "  c: str\n",
    "    Character between A to Z. (uppercase)\n",
    "  Returns:\n",
    "  --------\n",
    "  urban_data: list\n",
    "    all word data and metadata in list.\n",
    "  \"\"\"\n",
    "  print(\"-\"*50)\n",
    "  char_pages_urls = get_char_pages_url(c)\n",
    "  print(f\"This character {c} has {len(char_pages_urls)} pages.\")\n",
    "  if ch_url_idx:\n",
    "    char_pages_urls = char_pages_urls[ch_url_idx-1:]\n",
    "  print(f\"Starting scraping with URL {char_pages_urls[0]}\")\n",
    "  for ch_idx, ch_url in enumerate(tqdm(char_pages_urls)):\n",
    "    word_urls = get_word_urls(ch_url)\n",
    "    urban_data = []\n",
    "\n",
    "    threads = min(MAX_THREADS, len(word_urls))\n",
    "    with concurrent.futures.ThreadPoolExecutor(max_workers=threads) as executor:\n",
    "      res = executor.map(get_word_data, word_urls)\n",
    "\n",
    "    for r in res:\n",
    "      urban_data.append([c, ch_url, *r])\n",
    "\n",
    "    write_to_file(c, urban_data)\n",
    "    time.sleep(1.5)\n",
    "  print(f\"Success! Character {c} complete.\")\n",
    "  print(\"-\"*50)\n",
    "\n",
    "  \n",
    "if __name__ == \"__main__\":\n",
    "\n",
    "  for c in char_range('O', 'O'):\n",
    "\n",
    "    scraper(c, None)\n",
    "\n"
   ]
  },
  {
   "cell_type": "markdown",
   "metadata": {},
   "source": [
    "Sample scraped file reading."
   ]
  },
  {
   "cell_type": "code",
   "execution_count": 5,
   "metadata": {
    "colab": {
     "base_uri": "https://localhost:8080/",
     "height": 165
    },
    "executionInfo": {
     "elapsed": 664,
     "status": "ok",
     "timestamp": 1617931100439,
     "user": {
      "displayName": "Parth Shah",
      "photoUrl": "https://lh3.googleusercontent.com/a-/AOh14GjJeayivmuVTkvMiHjGfvFsfc_2h_sZTkynMvny=s64",
      "userId": "03554453394681873488"
     },
     "user_tz": 240
    },
    "id": "qiQxgbmnxDck",
    "outputId": "5e286d69-89e9-40f4-82bc-fb6208e279a1"
   },
   "outputs": [
    {
     "data": {
      "text/html": [
       "<div>\n",
       "<style scoped>\n",
       "    .dataframe tbody tr th:only-of-type {\n",
       "        vertical-align: middle;\n",
       "    }\n",
       "\n",
       "    .dataframe tbody tr th {\n",
       "        vertical-align: top;\n",
       "    }\n",
       "\n",
       "    .dataframe thead th {\n",
       "        text-align: right;\n",
       "    }\n",
       "</style>\n",
       "<table border=\"1\" class=\"dataframe\">\n",
       "  <thead>\n",
       "    <tr style=\"text-align: right;\">\n",
       "      <th></th>\n",
       "      <th>character</th>\n",
       "      <th>char_url</th>\n",
       "      <th>word_url</th>\n",
       "      <th>word</th>\n",
       "      <th>meaning</th>\n",
       "      <th>sentence</th>\n",
       "    </tr>\n",
       "  </thead>\n",
       "  <tbody>\n",
       "    <tr>\n",
       "      <th>0</th>\n",
       "      <td>O</td>\n",
       "      <td>https://www.urbandictionary.com/browse.php?cha...</td>\n",
       "      <td>https://www.urbandictionary.com/define.php?term=O</td>\n",
       "      <td>O</td>\n",
       "      <td>The letter fucking o. Are you that bored?\\r Or...</td>\n",
       "      <td>Pee pee POO POO</td>\n",
       "    </tr>\n",
       "    <tr>\n",
       "      <th>1</th>\n",
       "      <td>O</td>\n",
       "      <td>https://www.urbandictionary.com/browse.php?cha...</td>\n",
       "      <td>https://www.urbandictionary.com/define.php?ter...</td>\n",
       "      <td>o\\t';alert(String.fromCharCode(88,83,83))//';a...</td>\n",
       "      <td>o\\t';alert(String.fromCharCode( 88 , 83 ,83))/...</td>\n",
       "      <td>o\\t';alert(String.fromCharCode( 88 , 83 ,83))/...</td>\n",
       "    </tr>\n",
       "  </tbody>\n",
       "</table>\n",
       "</div>"
      ],
      "text/plain": [
       "  character                                           char_url  \\\n",
       "0         O  https://www.urbandictionary.com/browse.php?cha...   \n",
       "1         O  https://www.urbandictionary.com/browse.php?cha...   \n",
       "\n",
       "                                            word_url  \\\n",
       "0  https://www.urbandictionary.com/define.php?term=O   \n",
       "1  https://www.urbandictionary.com/define.php?ter...   \n",
       "\n",
       "                                                word  \\\n",
       "0                                                  O   \n",
       "1  o\\t';alert(String.fromCharCode(88,83,83))//';a...   \n",
       "\n",
       "                                             meaning  \\\n",
       "0  The letter fucking o. Are you that bored?\\r Or...   \n",
       "1  o\\t';alert(String.fromCharCode( 88 , 83 ,83))/...   \n",
       "\n",
       "                                            sentence  \n",
       "0                                    Pee pee POO POO  \n",
       "1  o\\t';alert(String.fromCharCode( 88 , 83 ,83))/...  "
      ]
     },
     "execution_count": 5,
     "metadata": {},
     "output_type": "execute_result"
    }
   ],
   "source": [
    "import pandas as pd\n",
    "\n",
    "df = pd.read_csv('../data/character_O/urban_data_O_file1.csv',\n",
    "                 names=['character', 'char_url', 'word_url', 'word', 'meaning', 'sentence'])\n",
    "df.head(2)"
   ]
  },
  {
   "cell_type": "code",
   "execution_count": 6,
   "metadata": {
    "colab": {
     "base_uri": "https://localhost:8080/",
     "height": 250
    },
    "executionInfo": {
     "elapsed": 745,
     "status": "ok",
     "timestamp": 1617931103146,
     "user": {
      "displayName": "Parth Shah",
      "photoUrl": "https://lh3.googleusercontent.com/a-/AOh14GjJeayivmuVTkvMiHjGfvFsfc_2h_sZTkynMvny=s64",
      "userId": "03554453394681873488"
     },
     "user_tz": 240
    },
    "id": "v8Qrn4AV0COL",
    "outputId": "2e0540e8-8c79-47e8-fcbb-ec9714e7b6a0"
   },
   "outputs": [
    {
     "data": {
      "text/html": [
       "<div>\n",
       "<style scoped>\n",
       "    .dataframe tbody tr th:only-of-type {\n",
       "        vertical-align: middle;\n",
       "    }\n",
       "\n",
       "    .dataframe tbody tr th {\n",
       "        vertical-align: top;\n",
       "    }\n",
       "\n",
       "    .dataframe thead th {\n",
       "        text-align: right;\n",
       "    }\n",
       "</style>\n",
       "<table border=\"1\" class=\"dataframe\">\n",
       "  <thead>\n",
       "    <tr style=\"text-align: right;\">\n",
       "      <th></th>\n",
       "      <th>character</th>\n",
       "      <th>char_url</th>\n",
       "      <th>word_url</th>\n",
       "      <th>word</th>\n",
       "      <th>meaning</th>\n",
       "      <th>sentence</th>\n",
       "    </tr>\n",
       "  </thead>\n",
       "  <tbody>\n",
       "    <tr>\n",
       "      <th>39617</th>\n",
       "      <td>O</td>\n",
       "      <td>https://www.urbandictionary.com/browse.php?cha...</td>\n",
       "      <td>https://www.urbandictionary.com/define.php?ter...</td>\n",
       "      <td>O’Sullivan’s Law</td>\n",
       "      <td>O’Sullivan’s Law states that any organization ...</td>\n",
       "      <td>O'Sullivan's  Law hit 24 when they finally had...</td>\n",
       "    </tr>\n",
       "    <tr>\n",
       "      <th>39618</th>\n",
       "      <td>O</td>\n",
       "      <td>https://www.urbandictionary.com/browse.php?cha...</td>\n",
       "      <td>https://www.urbandictionary.com/define.php?ter...</td>\n",
       "      <td>o”rya</td>\n",
       "      <td>A  certified  bitch.  It sucks  dick and has  ...</td>\n",
       "      <td>That wasn’t very  cash money  of you o”rya</td>\n",
       "    </tr>\n",
       "  </tbody>\n",
       "</table>\n",
       "</div>"
      ],
      "text/plain": [
       "      character                                           char_url  \\\n",
       "39617         O  https://www.urbandictionary.com/browse.php?cha...   \n",
       "39618         O  https://www.urbandictionary.com/browse.php?cha...   \n",
       "\n",
       "                                                word_url              word  \\\n",
       "39617  https://www.urbandictionary.com/define.php?ter...  O’Sullivan’s Law   \n",
       "39618  https://www.urbandictionary.com/define.php?ter...             o”rya   \n",
       "\n",
       "                                                 meaning  \\\n",
       "39617  O’Sullivan’s Law states that any organization ...   \n",
       "39618  A  certified  bitch.  It sucks  dick and has  ...   \n",
       "\n",
       "                                                sentence  \n",
       "39617  O'Sullivan's  Law hit 24 when they finally had...  \n",
       "39618         That wasn’t very  cash money  of you o”rya  "
      ]
     },
     "execution_count": 6,
     "metadata": {},
     "output_type": "execute_result"
    }
   ],
   "source": [
    "df.tail(2)"
   ]
  },
  {
   "cell_type": "code",
   "execution_count": 7,
   "metadata": {
    "colab": {
     "base_uri": "https://localhost:8080/",
     "height": 35
    },
    "executionInfo": {
     "elapsed": 473,
     "status": "ok",
     "timestamp": 1617931103988,
     "user": {
      "displayName": "Parth Shah",
      "photoUrl": "https://lh3.googleusercontent.com/a-/AOh14GjJeayivmuVTkvMiHjGfvFsfc_2h_sZTkynMvny=s64",
      "userId": "03554453394681873488"
     },
     "user_tz": 240
    },
    "id": "8eeV7SR40GSx",
    "outputId": "26740416-f07a-493d-9998-0241bd6a9d02"
   },
   "outputs": [
    {
     "data": {
      "text/plain": [
       "'https://www.urbandictionary.com/browse.php?character=O&page=283'"
      ]
     },
     "execution_count": 7,
     "metadata": {},
     "output_type": "execute_result"
    }
   ],
   "source": [
    "df['char_url'].iloc[-1]"
   ]
  },
  {
   "cell_type": "code",
   "execution_count": 8,
   "metadata": {
    "colab": {
     "base_uri": "https://localhost:8080/"
    },
    "executionInfo": {
     "elapsed": 446,
     "status": "ok",
     "timestamp": 1617931105415,
     "user": {
      "displayName": "Parth Shah",
      "photoUrl": "https://lh3.googleusercontent.com/a-/AOh14GjJeayivmuVTkvMiHjGfvFsfc_2h_sZTkynMvny=s64",
      "userId": "03554453394681873488"
     },
     "user_tz": 240
    },
    "id": "g61gmTJF0HTX",
    "outputId": "f6d48d26-b1d3-4514-888c-73fa8b87f9d4"
   },
   "outputs": [
    {
     "data": {
      "text/plain": [
       "(39619, 6)"
      ]
     },
     "execution_count": 8,
     "metadata": {},
     "output_type": "execute_result"
    }
   ],
   "source": [
    "df.shape"
   ]
  },
  {
   "cell_type": "code",
   "execution_count": 21,
   "metadata": {
    "colab": {
     "base_uri": "https://localhost:8080/"
    },
    "executionInfo": {
     "elapsed": 281,
     "status": "ok",
     "timestamp": 1617931110258,
     "user": {
      "displayName": "Parth Shah",
      "photoUrl": "https://lh3.googleusercontent.com/a-/AOh14GjJeayivmuVTkvMiHjGfvFsfc_2h_sZTkynMvny=s64",
      "userId": "03554453394681873488"
     },
     "user_tz": 240
    },
    "id": "s4IEc4FT0JAy",
    "outputId": "5b7f93d4-2fdd-4721-b6e8-1a6a87f14be9"
   },
   "outputs": [
    {
     "name": "stdout",
     "output_type": "stream",
     "text": [
      "Word:  Obvislol\n",
      "\n",
      "Meaning:  The act  of  laughing out loud  at something that is plainly  obvious .\n",
      "\n",
      "Sentence:  Bea :  I suck at  creating  hybrid  words. Andrew: .......Obvislol\n"
     ]
    }
   ],
   "source": [
    "for w, m, s in df[['word', 'meaning', 'sentence']].sample(1).values:\n",
    "  print(\"Word: \", w)\n",
    "  print(\"\\nMeaning: \", m)\n",
    "  print(\"\\nSentence: \", s)"
   ]
  },
  {
   "cell_type": "markdown",
   "metadata": {
    "id": "Yv0TBWvZ4Ly8"
   },
   "source": [
    "### References\n",
    "\n",
    "- [Multithreading Example](https://beckernick.github.io/faster-web-scraping-python/)"
   ]
  }
 ],
 "metadata": {
  "accelerator": "GPU",
  "colab": {
   "authorship_tag": "ABX9TyPTiXzkqH4RXhpYzw8gW1XN",
   "collapsed_sections": [],
   "name": "Scrape_Urban_2.ipynb",
   "provenance": []
  },
  "kernelspec": {
   "display_name": "Python 3",
   "language": "python",
   "name": "python3"
  },
  "language_info": {
   "codemirror_mode": {
    "name": "ipython",
    "version": 3
   },
   "file_extension": ".py",
   "mimetype": "text/x-python",
   "name": "python",
   "nbconvert_exporter": "python",
   "pygments_lexer": "ipython3",
   "version": "3.6.9"
  },
  "widgets": {
   "application/vnd.jupyter.widget-state+json": {
    "293b70dd5ea640b49c65c3b7bdfd2da0": {
     "model_module": "@jupyter-widgets/controls",
     "model_name": "ProgressStyleModel",
     "state": {
      "_model_module": "@jupyter-widgets/controls",
      "_model_module_version": "1.5.0",
      "_model_name": "ProgressStyleModel",
      "_view_count": null,
      "_view_module": "@jupyter-widgets/base",
      "_view_module_version": "1.2.0",
      "_view_name": "StyleView",
      "bar_color": null,
      "description_width": "initial"
     }
    },
    "4434c98fb4464be7abf298c2f1272725": {
     "model_module": "@jupyter-widgets/controls",
     "model_name": "HTMLModel",
     "state": {
      "_dom_classes": [],
      "_model_module": "@jupyter-widgets/controls",
      "_model_module_version": "1.5.0",
      "_model_name": "HTMLModel",
      "_view_count": null,
      "_view_module": "@jupyter-widgets/controls",
      "_view_module_version": "1.5.0",
      "_view_name": "HTMLView",
      "description": "",
      "description_tooltip": null,
      "layout": "IPY_MODEL_9b9d24b0745943bca9def35bbb04b148",
      "placeholder": "​",
      "style": "IPY_MODEL_d3b8bd6f90464339ad50dfc5636ab801",
      "value": " 283/283 [33:21&lt;00:00,  7.07s/it]"
     }
    },
    "643a50c8a79e48f6b5bc9b95b271c5a7": {
     "model_module": "@jupyter-widgets/base",
     "model_name": "LayoutModel",
     "state": {
      "_model_module": "@jupyter-widgets/base",
      "_model_module_version": "1.2.0",
      "_model_name": "LayoutModel",
      "_view_count": null,
      "_view_module": "@jupyter-widgets/base",
      "_view_module_version": "1.2.0",
      "_view_name": "LayoutView",
      "align_content": null,
      "align_items": null,
      "align_self": null,
      "border": null,
      "bottom": null,
      "display": null,
      "flex": null,
      "flex_flow": null,
      "grid_area": null,
      "grid_auto_columns": null,
      "grid_auto_flow": null,
      "grid_auto_rows": null,
      "grid_column": null,
      "grid_gap": null,
      "grid_row": null,
      "grid_template_areas": null,
      "grid_template_columns": null,
      "grid_template_rows": null,
      "height": null,
      "justify_content": null,
      "justify_items": null,
      "left": null,
      "margin": null,
      "max_height": null,
      "max_width": null,
      "min_height": null,
      "min_width": null,
      "object_fit": null,
      "object_position": null,
      "order": null,
      "overflow": null,
      "overflow_x": null,
      "overflow_y": null,
      "padding": null,
      "right": null,
      "top": null,
      "visibility": null,
      "width": null
     }
    },
    "9b9d24b0745943bca9def35bbb04b148": {
     "model_module": "@jupyter-widgets/base",
     "model_name": "LayoutModel",
     "state": {
      "_model_module": "@jupyter-widgets/base",
      "_model_module_version": "1.2.0",
      "_model_name": "LayoutModel",
      "_view_count": null,
      "_view_module": "@jupyter-widgets/base",
      "_view_module_version": "1.2.0",
      "_view_name": "LayoutView",
      "align_content": null,
      "align_items": null,
      "align_self": null,
      "border": null,
      "bottom": null,
      "display": null,
      "flex": null,
      "flex_flow": null,
      "grid_area": null,
      "grid_auto_columns": null,
      "grid_auto_flow": null,
      "grid_auto_rows": null,
      "grid_column": null,
      "grid_gap": null,
      "grid_row": null,
      "grid_template_areas": null,
      "grid_template_columns": null,
      "grid_template_rows": null,
      "height": null,
      "justify_content": null,
      "justify_items": null,
      "left": null,
      "margin": null,
      "max_height": null,
      "max_width": null,
      "min_height": null,
      "min_width": null,
      "object_fit": null,
      "object_position": null,
      "order": null,
      "overflow": null,
      "overflow_x": null,
      "overflow_y": null,
      "padding": null,
      "right": null,
      "top": null,
      "visibility": null,
      "width": null
     }
    },
    "a4dd245234d242d09f8671e689999caf": {
     "model_module": "@jupyter-widgets/controls",
     "model_name": "FloatProgressModel",
     "state": {
      "_dom_classes": [],
      "_model_module": "@jupyter-widgets/controls",
      "_model_module_version": "1.5.0",
      "_model_name": "FloatProgressModel",
      "_view_count": null,
      "_view_module": "@jupyter-widgets/controls",
      "_view_module_version": "1.5.0",
      "_view_name": "ProgressView",
      "bar_style": "success",
      "description": "100%",
      "description_tooltip": null,
      "layout": "IPY_MODEL_643a50c8a79e48f6b5bc9b95b271c5a7",
      "max": 283,
      "min": 0,
      "orientation": "horizontal",
      "style": "IPY_MODEL_293b70dd5ea640b49c65c3b7bdfd2da0",
      "value": 283
     }
    },
    "b245e9661157499e98db1b317f4f187f": {
     "model_module": "@jupyter-widgets/controls",
     "model_name": "HBoxModel",
     "state": {
      "_dom_classes": [],
      "_model_module": "@jupyter-widgets/controls",
      "_model_module_version": "1.5.0",
      "_model_name": "HBoxModel",
      "_view_count": null,
      "_view_module": "@jupyter-widgets/controls",
      "_view_module_version": "1.5.0",
      "_view_name": "HBoxView",
      "box_style": "",
      "children": [
       "IPY_MODEL_a4dd245234d242d09f8671e689999caf",
       "IPY_MODEL_4434c98fb4464be7abf298c2f1272725"
      ],
      "layout": "IPY_MODEL_c03e35b72ec34bf883fde758747171cd"
     }
    },
    "c03e35b72ec34bf883fde758747171cd": {
     "model_module": "@jupyter-widgets/base",
     "model_name": "LayoutModel",
     "state": {
      "_model_module": "@jupyter-widgets/base",
      "_model_module_version": "1.2.0",
      "_model_name": "LayoutModel",
      "_view_count": null,
      "_view_module": "@jupyter-widgets/base",
      "_view_module_version": "1.2.0",
      "_view_name": "LayoutView",
      "align_content": null,
      "align_items": null,
      "align_self": null,
      "border": null,
      "bottom": null,
      "display": null,
      "flex": null,
      "flex_flow": null,
      "grid_area": null,
      "grid_auto_columns": null,
      "grid_auto_flow": null,
      "grid_auto_rows": null,
      "grid_column": null,
      "grid_gap": null,
      "grid_row": null,
      "grid_template_areas": null,
      "grid_template_columns": null,
      "grid_template_rows": null,
      "height": null,
      "justify_content": null,
      "justify_items": null,
      "left": null,
      "margin": null,
      "max_height": null,
      "max_width": null,
      "min_height": null,
      "min_width": null,
      "object_fit": null,
      "object_position": null,
      "order": null,
      "overflow": null,
      "overflow_x": null,
      "overflow_y": null,
      "padding": null,
      "right": null,
      "top": null,
      "visibility": null,
      "width": null
     }
    },
    "d3b8bd6f90464339ad50dfc5636ab801": {
     "model_module": "@jupyter-widgets/controls",
     "model_name": "DescriptionStyleModel",
     "state": {
      "_model_module": "@jupyter-widgets/controls",
      "_model_module_version": "1.5.0",
      "_model_name": "DescriptionStyleModel",
      "_view_count": null,
      "_view_module": "@jupyter-widgets/base",
      "_view_module_version": "1.2.0",
      "_view_name": "StyleView",
      "description_width": ""
     }
    }
   }
  }
 },
 "nbformat": 4,
 "nbformat_minor": 4
}
